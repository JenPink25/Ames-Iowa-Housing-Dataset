{
 "cells": [
  {
   "cell_type": "markdown",
   "metadata": {},
   "source": [
    "# Exploratory Data Analysis\n",
    "\n",
    "### Loading in the Data\n",
    "\n",
    "The original data can be found [here](https://ww2.amstat.org/publications/jse/v19n3/decock/AmesHousing.txt) along with the [dataset documentation](https://ww2.amstat.org/publications/jse/v19n3/decock/DataDocumentation.txt)."
   ]
  },
  {
   "cell_type": "code",
   "execution_count": 2,
   "metadata": {
    "collapsed": false
   },
   "outputs": [
    {
     "name": "stderr",
     "output_type": "stream",
     "text": [
      "Warning message:\n",
      "\"package 'repr' was built under R version 3.3.3\"Warning message:\n",
      "\"package 'ggplot2' was built under R version 3.3.3\"Warning message:\n",
      "\"package 'dplyr' was built under R version 3.3.3\"\n",
      "Attaching package: 'dplyr'\n",
      "\n",
      "The following objects are masked from 'package:stats':\n",
      "\n",
      "    filter, lag\n",
      "\n",
      "The following objects are masked from 'package:base':\n",
      "\n",
      "    intersect, setdiff, setequal, union\n",
      "\n"
     ]
    }
   ],
   "source": [
    "library(repr)\n",
    "library(ggplot2)\n",
    "library(dplyr)"
   ]
  },
  {
   "cell_type": "code",
   "execution_count": 3,
   "metadata": {
    "collapsed": false
   },
   "outputs": [],
   "source": [
    "ames_URL <- 'https://ww2.amstat.org/publications/jse/v19n3/decock/AmesHousing.txt'\n",
    "ames <- read.table(url(ames_URL), sep = '\\t', header = TRUE)"
   ]
  },
  {
   "cell_type": "code",
   "execution_count": 4,
   "metadata": {
    "collapsed": false
   },
   "outputs": [
    {
     "data": {
      "text/html": [
       "<table>\n",
       "<thead><tr><th scope=col>Order</th><th scope=col>PID</th><th scope=col>MS.SubClass</th><th scope=col>MS.Zoning</th><th scope=col>Lot.Frontage</th><th scope=col>Lot.Area</th><th scope=col>Street</th><th scope=col>Alley</th><th scope=col>Lot.Shape</th><th scope=col>Land.Contour</th><th scope=col>...</th><th scope=col>Pool.Area</th><th scope=col>Pool.QC</th><th scope=col>Fence</th><th scope=col>Misc.Feature</th><th scope=col>Misc.Val</th><th scope=col>Mo.Sold</th><th scope=col>Yr.Sold</th><th scope=col>Sale.Type</th><th scope=col>Sale.Condition</th><th scope=col>SalePrice</th></tr></thead>\n",
       "<tbody>\n",
       "\t<tr><td>1        </td><td>526301100</td><td>20       </td><td>RL       </td><td>141      </td><td>31770    </td><td>Pave     </td><td>NA       </td><td>IR1      </td><td>Lvl      </td><td>...      </td><td>0        </td><td>NA       </td><td>NA       </td><td>NA       </td><td>    0    </td><td>5        </td><td>2010     </td><td>WD       </td><td>Normal   </td><td>215000   </td></tr>\n",
       "\t<tr><td>2        </td><td>526350040</td><td>20       </td><td>RH       </td><td> 80      </td><td>11622    </td><td>Pave     </td><td>NA       </td><td>Reg      </td><td>Lvl      </td><td>...      </td><td>0        </td><td>NA       </td><td>MnPrv    </td><td>NA       </td><td>    0    </td><td>6        </td><td>2010     </td><td>WD       </td><td>Normal   </td><td>105000   </td></tr>\n",
       "\t<tr><td>3        </td><td>526351010</td><td>20       </td><td>RL       </td><td> 81      </td><td>14267    </td><td>Pave     </td><td>NA       </td><td>IR1      </td><td>Lvl      </td><td>...      </td><td>0        </td><td>NA       </td><td>NA       </td><td>Gar2     </td><td>12500    </td><td>6        </td><td>2010     </td><td>WD       </td><td>Normal   </td><td>172000   </td></tr>\n",
       "\t<tr><td>4        </td><td>526353030</td><td>20       </td><td>RL       </td><td> 93      </td><td>11160    </td><td>Pave     </td><td>NA       </td><td>Reg      </td><td>Lvl      </td><td>...      </td><td>0        </td><td>NA       </td><td>NA       </td><td>NA       </td><td>    0    </td><td>4        </td><td>2010     </td><td>WD       </td><td>Normal   </td><td>244000   </td></tr>\n",
       "\t<tr><td>5        </td><td>527105010</td><td>60       </td><td>RL       </td><td> 74      </td><td>13830    </td><td>Pave     </td><td>NA       </td><td>IR1      </td><td>Lvl      </td><td>...      </td><td>0        </td><td>NA       </td><td>MnPrv    </td><td>NA       </td><td>    0    </td><td>3        </td><td>2010     </td><td>WD       </td><td>Normal   </td><td>189900   </td></tr>\n",
       "\t<tr><td>6        </td><td>527105030</td><td>60       </td><td>RL       </td><td> 78      </td><td> 9978    </td><td>Pave     </td><td>NA       </td><td>IR1      </td><td>Lvl      </td><td>...      </td><td>0        </td><td>NA       </td><td>NA       </td><td>NA       </td><td>    0    </td><td>6        </td><td>2010     </td><td>WD       </td><td>Normal   </td><td>195500   </td></tr>\n",
       "</tbody>\n",
       "</table>\n"
      ],
      "text/latex": [
       "\\begin{tabular}{r|llllllllllllllllllllllllllllllllllllllllllllllllllllllllllllllllllllllllllllllllll}\n",
       " Order & PID & MS.SubClass & MS.Zoning & Lot.Frontage & Lot.Area & Street & Alley & Lot.Shape & Land.Contour & ... & Pool.Area & Pool.QC & Fence & Misc.Feature & Misc.Val & Mo.Sold & Yr.Sold & Sale.Type & Sale.Condition & SalePrice\\\\\n",
       "\\hline\n",
       "\t 1         & 526301100 & 20        & RL        & 141       & 31770     & Pave      & NA        & IR1       & Lvl       & ...       & 0         & NA        & NA        & NA        &     0     & 5         & 2010      & WD        & Normal    & 215000   \\\\\n",
       "\t 2         & 526350040 & 20        & RH        &  80       & 11622     & Pave      & NA        & Reg       & Lvl       & ...       & 0         & NA        & MnPrv     & NA        &     0     & 6         & 2010      & WD        & Normal    & 105000   \\\\\n",
       "\t 3         & 526351010 & 20        & RL        &  81       & 14267     & Pave      & NA        & IR1       & Lvl       & ...       & 0         & NA        & NA        & Gar2      & 12500     & 6         & 2010      & WD        & Normal    & 172000   \\\\\n",
       "\t 4         & 526353030 & 20        & RL        &  93       & 11160     & Pave      & NA        & Reg       & Lvl       & ...       & 0         & NA        & NA        & NA        &     0     & 4         & 2010      & WD        & Normal    & 244000   \\\\\n",
       "\t 5         & 527105010 & 60        & RL        &  74       & 13830     & Pave      & NA        & IR1       & Lvl       & ...       & 0         & NA        & MnPrv     & NA        &     0     & 3         & 2010      & WD        & Normal    & 189900   \\\\\n",
       "\t 6         & 527105030 & 60        & RL        &  78       &  9978     & Pave      & NA        & IR1       & Lvl       & ...       & 0         & NA        & NA        & NA        &     0     & 6         & 2010      & WD        & Normal    & 195500   \\\\\n",
       "\\end{tabular}\n"
      ],
      "text/markdown": [
       "\n",
       "Order | PID | MS.SubClass | MS.Zoning | Lot.Frontage | Lot.Area | Street | Alley | Lot.Shape | Land.Contour | ... | Pool.Area | Pool.QC | Fence | Misc.Feature | Misc.Val | Mo.Sold | Yr.Sold | Sale.Type | Sale.Condition | SalePrice | \n",
       "|---|---|---|---|---|---|\n",
       "| 1         | 526301100 | 20        | RL        | 141       | 31770     | Pave      | NA        | IR1       | Lvl       | ...       | 0         | NA        | NA        | NA        |     0     | 5         | 2010      | WD        | Normal    | 215000    | \n",
       "| 2         | 526350040 | 20        | RH        |  80       | 11622     | Pave      | NA        | Reg       | Lvl       | ...       | 0         | NA        | MnPrv     | NA        |     0     | 6         | 2010      | WD        | Normal    | 105000    | \n",
       "| 3         | 526351010 | 20        | RL        |  81       | 14267     | Pave      | NA        | IR1       | Lvl       | ...       | 0         | NA        | NA        | Gar2      | 12500     | 6         | 2010      | WD        | Normal    | 172000    | \n",
       "| 4         | 526353030 | 20        | RL        |  93       | 11160     | Pave      | NA        | Reg       | Lvl       | ...       | 0         | NA        | NA        | NA        |     0     | 4         | 2010      | WD        | Normal    | 244000    | \n",
       "| 5         | 527105010 | 60        | RL        |  74       | 13830     | Pave      | NA        | IR1       | Lvl       | ...       | 0         | NA        | MnPrv     | NA        |     0     | 3         | 2010      | WD        | Normal    | 189900    | \n",
       "| 6         | 527105030 | 60        | RL        |  78       |  9978     | Pave      | NA        | IR1       | Lvl       | ...       | 0         | NA        | NA        | NA        |     0     | 6         | 2010      | WD        | Normal    | 195500    | \n",
       "\n",
       "\n"
      ],
      "text/plain": [
       "  Order PID       MS.SubClass MS.Zoning Lot.Frontage Lot.Area Street Alley\n",
       "1 1     526301100 20          RL        141          31770    Pave   NA   \n",
       "2 2     526350040 20          RH         80          11622    Pave   NA   \n",
       "3 3     526351010 20          RL         81          14267    Pave   NA   \n",
       "4 4     526353030 20          RL         93          11160    Pave   NA   \n",
       "5 5     527105010 60          RL         74          13830    Pave   NA   \n",
       "6 6     527105030 60          RL         78           9978    Pave   NA   \n",
       "  Lot.Shape Land.Contour ... Pool.Area Pool.QC Fence Misc.Feature Misc.Val\n",
       "1 IR1       Lvl          ... 0         NA      NA    NA               0   \n",
       "2 Reg       Lvl          ... 0         NA      MnPrv NA               0   \n",
       "3 IR1       Lvl          ... 0         NA      NA    Gar2         12500   \n",
       "4 Reg       Lvl          ... 0         NA      NA    NA               0   \n",
       "5 IR1       Lvl          ... 0         NA      MnPrv NA               0   \n",
       "6 IR1       Lvl          ... 0         NA      NA    NA               0   \n",
       "  Mo.Sold Yr.Sold Sale.Type Sale.Condition SalePrice\n",
       "1 5       2010    WD        Normal         215000   \n",
       "2 6       2010    WD        Normal         105000   \n",
       "3 6       2010    WD        Normal         172000   \n",
       "4 4       2010    WD        Normal         244000   \n",
       "5 3       2010    WD        Normal         189900   \n",
       "6 6       2010    WD        Normal         195500   "
      ]
     },
     "metadata": {},
     "output_type": "display_data"
    }
   ],
   "source": [
    "head(ames)"
   ]
  },
  {
   "cell_type": "code",
   "execution_count": 5,
   "metadata": {
    "collapsed": false
   },
   "outputs": [
    {
     "data": {
      "text/html": [
       "<ol class=list-inline>\n",
       "\t<li>2930</li>\n",
       "\t<li>80</li>\n",
       "</ol>\n"
      ],
      "text/latex": [
       "\\begin{enumerate*}\n",
       "\\item 2930\n",
       "\\item 80\n",
       "\\end{enumerate*}\n"
      ],
      "text/markdown": [
       "1. 2930\n",
       "2. 80\n",
       "\n",
       "\n"
      ],
      "text/plain": [
       "[1] 2930   80"
      ]
     },
     "metadata": {},
     "output_type": "display_data"
    },
    {
     "name": "stdout",
     "output_type": "stream",
     "text": [
      "Number of Numeric Variables:  37\n",
      "Number of Categorical Variables:  43"
     ]
    }
   ],
   "source": [
    "ames <- subset(ames, select = c(3:82))\n",
    "dim(ames)\n",
    "\n",
    "cat(paste(\"Number of Numeric Variables: \", sum(sapply(ames, is.numeric))))\n",
    "cat(paste(\"\\nNumber of Categorical Variables: \", sum(sapply(ames, is.factor))))"
   ]
  },
  {
   "cell_type": "markdown",
   "metadata": {},
   "source": [
    "Order and Parcel ID variables do not convey any useful information and is dropped. \n",
    "There are **2930 observations** and **80 variables**. \n",
    "1 of the 80 variables include sale price, which is the target variable. \n",
    "\n",
    "### Cleaning the Data\n",
    "\n",
    "Though there seems to be many numeric variables, not all of them are true numerical variables. Some are displayed as numbers but are really factors. These variables will be converted from int to factor."
   ]
  },
  {
   "cell_type": "code",
   "execution_count": 6,
   "metadata": {
    "collapsed": false
   },
   "outputs": [],
   "source": [
    "to_be_factors <- c(\"MS.SubClass\", \"Overall.Qual\", \"Overall.Cond\", \"Bsmt.Full.Bath\", \"Bsmt.Half.Bath\", \"Full.Bath\", \n",
    "                   \"Half.Bath\", \"Bedroom.AbvGr\", \"Kitchen.AbvGr\", \"TotRms.AbvGrd\", \"Fireplaces\", \"Garage.Cars\", \"Mo.Sold\",\n",
    "                   \"Yr.Sold\", \"Year.Built\", \"Year.Remod.Add\")\n",
    "\n",
    "ames[to_be_factors] <- lapply(ames[to_be_factors], factor)"
   ]
  },
  {
   "cell_type": "markdown",
   "metadata": {},
   "source": [
    "In addition, NA's need to be removed or replaced."
   ]
  },
  {
   "cell_type": "code",
   "execution_count": 7,
   "metadata": {
    "collapsed": false
   },
   "outputs": [],
   "source": [
    "# For Numeric Missing Values - Replace NA with the mean\n",
    "mean_LotFrontage <- mean(ames$Lot.Frontage, na.rm=TRUE)\n",
    "mean_MasVnrArea <- mean(ames$Mas.Vnr.Area, na.rm=TRUE)\n",
    "mean_GarageYrBlt <- mean(ames$Garage.Yr.Blt, na.rm=TRUE)\n",
    "\n",
    "ames$Lot.Frontage[is.na(ames$Lot.Frontage)] <- mean_LotFrontage\n",
    "ames$Mas.Vnr.Area[is.na(ames$Mas.Vnr.Area)] <- mean_MasVnrArea\n",
    "ames$Garage.Yr.Blt[is.na(ames$Garage.Yr.Blt)] <- mean_GarageYrBlt\n",
    "\n",
    "# For Categorical Missing Values - Determine which NA means without or actually NA \n",
    "empty_means_without <-c(\"Alley\",\"Bsmt.Qual\",\"Bsmt.Cond\",\"Bsmt.Exposure\",\"BsmtFin.Type.1\", \"BsmtFin.Type.2\", \"Fireplace.Qu\",\n",
    "                        \"Garage.Type\",\"Garage.Finish\", \"Garage.Qual\",\"Garage.Cond\",\"Pool.QC\",\"Fence\",\"Misc.Feature\")\n",
    "\n",
    "empty_means_NA <- c(\"Mas.Vnr.Type\",\"Electrical\") #This is because there are only 3 observations total between both variables\n",
    "\n",
    "# Replace NA in categorical variables for empty_means_without\n",
    "replace_empty_with_without <- function(feature) {\n",
    "    levels(feature) <- c(levels(feature), \"Without\")\n",
    "    feature[is.na(feature)] <- \"Without\"\n",
    "    return(feature)\n",
    "}\n",
    "\n",
    "for (feature in empty_means_without) {\n",
    "    ames[,feature] <- replace_empty_with_without(ames[,feature])\n",
    "}\n",
    "\n",
    "# Omit the 3 observations found in empty_means_NA (so few are removed that it won't influence our overall data)\n",
    "ames <- na.omit(ames)"
   ]
  },
  {
   "cell_type": "code",
   "execution_count": 8,
   "metadata": {
    "collapsed": false,
    "scrolled": false
   },
   "outputs": [
    {
     "name": "stdout",
     "output_type": "stream",
     "text": [
      "'data.frame':\t2927 obs. of  80 variables:\n",
      " $ MS.SubClass    : Factor w/ 16 levels \"20\",\"30\",\"40\",..: 1 1 1 1 6 6 12 12 12 6 ...\n",
      " $ MS.Zoning      : Factor w/ 7 levels \"A (agr)\",\"C (all)\",..: 6 5 6 6 6 6 6 6 6 6 ...\n",
      " $ Lot.Frontage   : num  141 80 81 93 74 78 41 43 39 60 ...\n",
      " $ Lot.Area       : int  31770 11622 14267 11160 13830 9978 4920 5005 5389 7500 ...\n",
      " $ Street         : Factor w/ 2 levels \"Grvl\",\"Pave\": 2 2 2 2 2 2 2 2 2 2 ...\n",
      " $ Alley          : Factor w/ 3 levels \"Grvl\",\"Pave\",..: 3 3 3 3 3 3 3 3 3 3 ...\n",
      " $ Lot.Shape      : Factor w/ 4 levels \"IR1\",\"IR2\",\"IR3\",..: 1 4 1 4 1 1 4 1 1 4 ...\n",
      " $ Land.Contour   : Factor w/ 4 levels \"Bnk\",\"HLS\",\"Low\",..: 4 4 4 4 4 4 4 2 4 4 ...\n",
      " $ Utilities      : Factor w/ 3 levels \"AllPub\",\"NoSeWa\",..: 1 1 1 1 1 1 1 1 1 1 ...\n",
      " $ Lot.Config     : Factor w/ 5 levels \"Corner\",\"CulDSac\",..: 1 5 1 1 5 5 5 5 5 5 ...\n",
      " $ Land.Slope     : Factor w/ 3 levels \"Gtl\",\"Mod\",\"Sev\": 1 1 1 1 1 1 1 1 1 1 ...\n",
      " $ Neighborhood   : Factor w/ 28 levels \"Blmngtn\",\"Blueste\",..: 16 16 16 16 9 9 25 25 25 9 ...\n",
      " $ Condition.1    : Factor w/ 9 levels \"Artery\",\"Feedr\",..: 3 2 3 3 3 3 3 3 3 3 ...\n",
      " $ Condition.2    : Factor w/ 8 levels \"Artery\",\"Feedr\",..: 3 3 3 3 3 3 3 3 3 3 ...\n",
      " $ Bldg.Type      : Factor w/ 5 levels \"1Fam\",\"2fmCon\",..: 1 1 1 1 1 1 5 5 5 1 ...\n",
      " $ House.Style    : Factor w/ 8 levels \"1.5Fin\",\"1.5Unf\",..: 3 3 3 3 6 6 3 3 3 6 ...\n",
      " $ Overall.Qual   : Factor w/ 10 levels \"1\",\"2\",\"3\",\"4\",..: 6 5 6 7 5 6 8 8 8 7 ...\n",
      " $ Overall.Cond   : Factor w/ 9 levels \"1\",\"2\",\"3\",\"4\",..: 5 6 6 5 5 6 5 5 5 5 ...\n",
      " $ Year.Built     : Factor w/ 118 levels \"1872\",\"1875\",..: 68 69 66 76 105 106 109 100 103 107 ...\n",
      " $ Year.Remod.Add : Factor w/ 61 levels \"1950\",\"1951\",..: 11 12 9 19 49 49 52 43 47 50 ...\n",
      " $ Roof.Style     : Factor w/ 6 levels \"Flat\",\"Gable\",..: 4 2 4 4 2 2 2 2 2 2 ...\n",
      " $ Roof.Matl      : Factor w/ 8 levels \"ClyTile\",\"CompShg\",..: 2 2 2 2 2 2 2 2 2 2 ...\n",
      " $ Exterior.1st   : Factor w/ 16 levels \"AsbShng\",\"AsphShn\",..: 4 14 15 4 14 14 6 7 6 14 ...\n",
      " $ Exterior.2nd   : Factor w/ 17 levels \"AsbShng\",\"AsphShn\",..: 11 15 16 4 15 15 6 7 6 15 ...\n",
      " $ Mas.Vnr.Type   : Factor w/ 6 levels \"\",\"BrkCmn\",\"BrkFace\",..: 6 5 3 5 5 3 5 5 5 5 ...\n",
      " $ Mas.Vnr.Area   : num  112 0 108 0 0 20 0 0 0 0 ...\n",
      " $ Exter.Qual     : Factor w/ 4 levels \"Ex\",\"Fa\",\"Gd\",..: 4 4 4 3 4 4 3 3 3 4 ...\n",
      " $ Exter.Cond     : Factor w/ 5 levels \"Ex\",\"Fa\",\"Gd\",..: 5 5 5 5 5 5 5 5 5 5 ...\n",
      " $ Foundation     : Factor w/ 6 levels \"BrkTil\",\"CBlock\",..: 2 2 2 2 3 3 3 3 3 3 ...\n",
      " $ Bsmt.Qual      : Factor w/ 7 levels \"\",\"Ex\",\"Fa\",\"Gd\",..: 6 6 6 6 4 6 4 4 4 6 ...\n",
      " $ Bsmt.Cond      : Factor w/ 7 levels \"\",\"Ex\",\"Fa\",\"Gd\",..: 4 6 6 6 6 6 6 6 6 6 ...\n",
      " $ Bsmt.Exposure  : Factor w/ 6 levels \"\",\"Av\",\"Gd\",\"Mn\",..: 3 5 5 5 5 5 4 5 5 5 ...\n",
      " $ BsmtFin.Type.1 : Factor w/ 8 levels \"\",\"ALQ\",\"BLQ\",..: 3 6 2 2 4 4 4 2 4 7 ...\n",
      " $ BsmtFin.SF.1   : int  639 468 923 1065 791 602 616 263 1180 0 ...\n",
      " $ BsmtFin.Type.2 : Factor w/ 8 levels \"\",\"ALQ\",\"BLQ\",..: 7 5 7 7 7 7 7 7 7 7 ...\n",
      " $ BsmtFin.SF.2   : int  0 144 0 0 0 0 0 0 0 0 ...\n",
      " $ Bsmt.Unf.SF    : int  441 270 406 1045 137 324 722 1017 415 994 ...\n",
      " $ Total.Bsmt.SF  : int  1080 882 1329 2110 928 926 1338 1280 1595 994 ...\n",
      " $ Heating        : Factor w/ 6 levels \"Floor\",\"GasA\",..: 2 2 2 2 2 2 2 2 2 2 ...\n",
      " $ Heating.QC     : Factor w/ 5 levels \"Ex\",\"Fa\",\"Gd\",..: 2 5 5 1 3 1 1 1 1 3 ...\n",
      " $ Central.Air    : Factor w/ 2 levels \"N\",\"Y\": 2 2 2 2 2 2 2 2 2 2 ...\n",
      " $ Electrical     : Factor w/ 6 levels \"\",\"FuseA\",\"FuseF\",..: 6 6 6 6 6 6 6 6 6 6 ...\n",
      " $ X1st.Flr.SF    : int  1656 896 1329 2110 928 926 1338 1280 1616 1028 ...\n",
      " $ X2nd.Flr.SF    : int  0 0 0 0 701 678 0 0 0 776 ...\n",
      " $ Low.Qual.Fin.SF: int  0 0 0 0 0 0 0 0 0 0 ...\n",
      " $ Gr.Liv.Area    : int  1656 896 1329 2110 1629 1604 1338 1280 1616 1804 ...\n",
      " $ Bsmt.Full.Bath : Factor w/ 4 levels \"0\",\"1\",\"2\",\"3\": 2 1 1 2 1 1 2 1 2 1 ...\n",
      " $ Bsmt.Half.Bath : Factor w/ 3 levels \"0\",\"1\",\"2\": 1 1 1 1 1 1 1 1 1 1 ...\n",
      " $ Full.Bath      : Factor w/ 5 levels \"0\",\"1\",\"2\",\"3\",..: 2 2 2 3 3 3 3 3 3 3 ...\n",
      " $ Half.Bath      : Factor w/ 3 levels \"0\",\"1\",\"2\": 1 1 2 2 2 2 1 1 1 2 ...\n",
      " $ Bedroom.AbvGr  : Factor w/ 8 levels \"0\",\"1\",\"2\",\"3\",..: 4 3 4 4 4 4 3 3 3 4 ...\n",
      " $ Kitchen.AbvGr  : Factor w/ 4 levels \"0\",\"1\",\"2\",\"3\": 2 2 2 2 2 2 2 2 2 2 ...\n",
      " $ Kitchen.Qual   : Factor w/ 5 levels \"Ex\",\"Fa\",\"Gd\",..: 5 5 3 1 5 3 3 3 3 3 ...\n",
      " $ TotRms.AbvGrd  : Factor w/ 14 levels \"2\",\"3\",\"4\",\"5\",..: 6 4 5 7 5 6 5 4 4 6 ...\n",
      " $ Functional     : Factor w/ 8 levels \"Maj1\",\"Maj2\",..: 8 8 8 8 8 8 8 8 8 8 ...\n",
      " $ Fireplaces     : Factor w/ 5 levels \"0\",\"1\",\"2\",\"3\",..: 3 1 1 3 2 2 1 1 2 2 ...\n",
      " $ Fireplace.Qu   : Factor w/ 6 levels \"Ex\",\"Fa\",\"Gd\",..: 3 6 6 5 5 3 6 6 5 5 ...\n",
      " $ Garage.Type    : Factor w/ 7 levels \"2Types\",\"Attchd\",..: 2 2 2 2 2 2 2 2 2 2 ...\n",
      " $ Garage.Yr.Blt  : num  1960 1961 1958 1968 1997 ...\n",
      " $ Garage.Finish  : Factor w/ 5 levels \"\",\"Fin\",\"RFn\",..: 2 4 4 2 2 2 2 3 3 2 ...\n",
      " $ Garage.Cars    : Factor w/ 6 levels \"0\",\"1\",\"2\",\"3\",..: 3 2 2 3 3 3 3 3 3 3 ...\n",
      " $ Garage.Area    : int  528 730 312 522 482 470 582 506 608 442 ...\n",
      " $ Garage.Qual    : Factor w/ 7 levels \"\",\"Ex\",\"Fa\",\"Gd\",..: 6 6 6 6 6 6 6 6 6 6 ...\n",
      " $ Garage.Cond    : Factor w/ 7 levels \"\",\"Ex\",\"Fa\",\"Gd\",..: 6 6 6 6 6 6 6 6 6 6 ...\n",
      " $ Paved.Drive    : Factor w/ 3 levels \"N\",\"P\",\"Y\": 2 3 3 3 3 3 3 3 3 3 ...\n",
      " $ Wood.Deck.SF   : int  210 140 393 0 212 360 0 0 237 140 ...\n",
      " $ Open.Porch.SF  : int  62 0 36 0 34 36 0 82 152 60 ...\n",
      " $ Enclosed.Porch : int  0 0 0 0 0 0 170 0 0 0 ...\n",
      " $ X3Ssn.Porch    : int  0 0 0 0 0 0 0 0 0 0 ...\n",
      " $ Screen.Porch   : int  0 120 0 0 0 0 0 144 0 0 ...\n",
      " $ Pool.Area      : int  0 0 0 0 0 0 0 0 0 0 ...\n",
      " $ Pool.QC        : Factor w/ 5 levels \"Ex\",\"Fa\",\"Gd\",..: 5 5 5 5 5 5 5 5 5 5 ...\n",
      " $ Fence          : Factor w/ 5 levels \"GdPrv\",\"GdWo\",..: 5 3 5 5 3 5 5 5 5 5 ...\n",
      " $ Misc.Feature   : Factor w/ 6 levels \"Elev\",\"Gar2\",..: 6 6 2 6 6 6 6 6 6 6 ...\n",
      " $ Misc.Val       : int  0 0 12500 0 0 0 0 0 0 0 ...\n",
      " $ Mo.Sold        : Factor w/ 12 levels \"1\",\"2\",\"3\",\"4\",..: 5 6 6 4 3 6 4 1 3 6 ...\n",
      " $ Yr.Sold        : Factor w/ 5 levels \"2006\",\"2007\",..: 5 5 5 5 5 5 5 5 5 5 ...\n",
      " $ Sale.Type      : Factor w/ 10 levels \"COD\",\"Con\",\"ConLD\",..: 10 10 10 10 10 10 10 10 10 10 ...\n",
      " $ Sale.Condition : Factor w/ 6 levels \"Abnorml\",\"AdjLand\",..: 5 5 5 5 5 5 5 5 5 5 ...\n",
      " $ SalePrice      : int  215000 105000 172000 244000 189900 195500 213500 191500 236500 189000 ...\n",
      " - attr(*, \"na.action\")=Class 'omit'  Named int [1:3] 1342 1498 2237\n",
      "  .. ..- attr(*, \"names\")= chr [1:3] \"1342\" \"1498\" \"2237\"\n"
     ]
    }
   ],
   "source": [
    "str(ames)"
   ]
  },
  {
   "cell_type": "markdown",
   "metadata": {},
   "source": [
    "## Looking at the Target Feature\n",
    "\n",
    "How much do houses in Ames, Iowa normally cost?"
   ]
  },
  {
   "cell_type": "code",
   "execution_count": 9,
   "metadata": {
    "collapsed": false
   },
   "outputs": [
    {
     "name": "stdout",
     "output_type": "stream",
     "text": [
      "Mean Price:  180806\n",
      "Median Price:  160000\n",
      "Max Price:  755000\n",
      "Min Price:  12789"
     ]
    }
   ],
   "source": [
    "cat(paste(\"Mean Price: \", round(mean(ames$SalePrice))))\n",
    "cat(paste(\"\\nMedian Price: \", median(ames$SalePrice)))\n",
    "cat(paste(\"\\nMax Price: \", max(ames$SalePrice)))\n",
    "cat(paste(\"\\nMin Price: \", min(ames$SalePrice)))"
   ]
  },
  {
   "cell_type": "code",
   "execution_count": 10,
   "metadata": {
    "collapsed": false,
    "scrolled": false
   },
   "outputs": [
    {
     "data": {
      "image/png": "[encoded data removed]",
      "text/plain": [
       "Plot with title \"Cost of Houses in Ames\""
      ]
     },
     "metadata": {},
     "output_type": "display_data"
    }
   ],
   "source": [
    "options(repr.plot.height = 4.5, repr.plot.width = 8)\n",
    "options(scipen=10000)\n",
    "hist(ames$SalePrice, col = 'light blue', main = 'Cost of Houses in Ames', xlab = 'Sale Price', breaks = 75, xlim = c(0,800000), freq = FALSE)\n",
    "abline(v = mean(ames$SalePrice), col = 'red', lty = 2, lwd = 3)\n",
    "abline(v = median(ames$SalePrice), col = 'dark blue', lty = 2, lwd = 3)\n",
    "lines(density(ames$SalePrice), col = 'black', lwd = 2)"
   ]
  },
  {
   "cell_type": "markdown",
   "metadata": {},
   "source": [
    "The histogram of the sale price is right skewed. The mean is higher than the median. There are also a good number of outliers."
   ]
  },
  {
   "cell_type": "markdown",
   "metadata": {
    "collapsed": false
   },
   "source": [
    "### Looking at Other Features\n",
    "\n",
    "In order to predict the sale price, let's look at how other variables influence the price.\n",
    "\n",
    "What neighborhood were the houses from?"
   ]
  },
  {
   "cell_type": "code",
   "execution_count": 58,
   "metadata": {
    "collapsed": false
   },
   "outputs": [
    {
     "data": {
      "text/plain": [
       "\n",
       "Blmngtn Blueste  BrDale BrkSide ClearCr CollgCr Crawfor Edwards Gilbert  Greens \n",
       "     28      10      30     107      44     267     103     193     165       8 \n",
       "GrnHill  IDOTRR Landmrk MeadowV Mitchel   NAmes NoRidge NPkVill NridgHt  NWAmes \n",
       "      2      92       1      37     114     443      71      23     166     131 \n",
       "OldTown  Sawyer SawyerW Somerst StoneBr   SWISU  Timber Veenker \n",
       "    239     151     125     182      51      48      72      24 "
      ]
     },
     "metadata": {},
     "output_type": "display_data"
    },
    {
     "data": {},
     "metadata": {},
     "output_type": "display_data"
    },
    {
     "data": {
      "image/png": "[encoded data removed]",
      "text/plain": [
       "plot without title"
      ]
     },
     "metadata": {},
     "output_type": "display_data"
    }
   ],
   "source": [
    "table(ames$Neighborhood)\n",
    "theme_set(theme_classic())\n",
    "options(repr.plot.height = 4, repr.plot.width = 8)\n",
    "ggplot(as.data.frame.table(table(ames$Neighborhood)), aes(Var1, Freq)) + \n",
    "    geom_bar(stat = \"identity\", width = 0.5, fill = \"plum3\") + \n",
    "    labs(title = \"Neighborhood\", subtitle = \"Ames, Iowa\") +\n",
    "    theme(axis.text.x = element_text(angle=65, vjust=0.6))"
   ]
  },
  {
   "cell_type": "markdown",
   "metadata": {},
   "source": [
    "What was the general condition of the houses? (1 = poor, 10 = excellent)"
   ]
  },
  {
   "cell_type": "code",
   "execution_count": 42,
   "metadata": {
    "collapsed": false
   },
   "outputs": [
    {
     "data": {
      "text/plain": [
       "\n",
       "   1    2    3    4    5    6    7    8    9 \n",
       "   7   10   50  101 1654  532  388  144   41 "
      ]
     },
     "metadata": {},
     "output_type": "display_data"
    },
    {
     "data": {},
     "metadata": {},
     "output_type": "display_data"
    },
    {
     "data": {
      "image/png": "[encoded data removed]",
      "text/plain": [
       "plot without title"
      ]
     },
     "metadata": {},
     "output_type": "display_data"
    }
   ],
   "source": [
    "table(ames$Overall.Cond)\n",
    "options(repr.plot.height = 3, repr.plot.width = 7)\n",
    "ggplot(as.data.frame.table(table(ames$Overall.Cond)), aes(Var1, Freq)) + \n",
    "    geom_bar(stat = \"identity\", width = 0.5, fill = \"palegreen3\") + \n",
    "    labs(title = \"Overall Conditions\", subtitle = \"Ames, Iowa\")"
   ]
  },
  {
   "cell_type": "markdown",
   "metadata": {},
   "source": [
    "## How Other Features Compare with Sale Price\n",
    "\n",
    "### Numerical Features\n",
    "\n",
    "Let's look at a few key numerical features at once and see how they correlate with sale price."
   ]
  },
  {
   "cell_type": "code",
   "execution_count": 13,
   "metadata": {
    "collapsed": false
   },
   "outputs": [
    {
     "data": {
      "image/png": "[encoded data removed]",
      "text/plain": [
       "plot without title"
      ]
     },
     "metadata": {},
     "output_type": "display_data"
    }
   ],
   "source": [
    "options(repr.plot.height = 7, repr.plot.width = 7)\n",
    "num_vars <- c(\"Lot.Area\", \"Mas.Vnr.Area\", \"Total.Bsmt.SF\", \"Gr.Liv.Area\", \"Garage.Area\", \"Open.Porch.SF\", \"SalePrice\")\n",
    "plot(ames[, num_vars])"
   ]
  },
  {
   "cell_type": "markdown",
   "metadata": {},
   "source": [
    "Most seem to be positively correlated with one another. Notably, they all seem positively correlated with sale price."
   ]
  },
  {
   "cell_type": "markdown",
   "metadata": {},
   "source": [
    "### Categorical Features\n",
    "\n",
    "How about a few key categorical features? Let's compare prices with the year they were built."
   ]
  },
  {
   "cell_type": "code",
   "execution_count": 56,
   "metadata": {
    "collapsed": false
   },
   "outputs": [
    {
     "data": {},
     "metadata": {},
     "output_type": "display_data"
    },
    {
     "data": {
      "image/png": "[encoded data removed]",
      "text/plain": [
       "plot without title"
      ]
     },
     "metadata": {},
     "output_type": "display_data"
    }
   ],
   "source": [
    "options(repr.plot.height = 4, repr.plot.width = 5)\n",
    "ggplot(ames, aes(x=House.Style, y=SalePrice)) + \n",
    "    stat_summary(fun.y=\"mean\", geom=\"bar\", fill = \"slategray2\") +\n",
    "    labs(title = \"Average Sale Price of Different House Styles\", subtitle = \"Ames, Iowa\")"
   ]
  },
  {
   "cell_type": "markdown",
   "metadata": {},
   "source": [
    "From the graph, one and a half story unfinished homes (1.5Unf) tend to cost the least and 2.5 story finished homes (2.5Fin) tend to cost the most. Finished homes cost more than unfinished homes and 2 or 2.5 story homes cost more than single story homes. Overall, logically this graph makes sense and aligns with what you'd think when it comes to purchasing homes.\n",
    "\n",
    "Let's also look at how neighborhoods relate to sale price."
   ]
  },
  {
   "cell_type": "code",
   "execution_count": 53,
   "metadata": {
    "collapsed": false
   },
   "outputs": [
    {
     "data": {},
     "metadata": {},
     "output_type": "display_data"
    },
    {
     "data": {
      "image/png": "[encoded data removed]",
      "text/plain": [
       "plot without title"
      ]
     },
     "metadata": {},
     "output_type": "display_data"
    }
   ],
   "source": [
    "options(repr.plot.height = 4, repr.plot.width = 7)\n",
    "ggplot(ames, aes(x=Neighborhood, y=SalePrice)) + \n",
    "    stat_summary(fun.y=\"mean\", geom=\"bar\", fill = \"salmon\") +\n",
    "    labs(title = \"Average Sale Price of Different Neighborhoods\", subtitle = \"Ames, Iowa\") +\n",
    "    theme(axis.text.x = element_text(angle=90, vjust=0.6))"
   ]
  },
  {
   "cell_type": "markdown",
   "metadata": {},
   "source": [
    "From the graph, you can assume that Northridge (NoRidge), Northridge Heights (NridgHt), Stone Brook (StoneBr), and Green Hill (GrnHill) are the more affluent neighborhoods and Briardale (BrDale), Iowa DOT and Rail Road (IDOTRR), Meadow Village (MeadowV) are the less affluent neighborhoods.\n",
    "\n",
    "Which housing foundation types cost more than others? "
   ]
  },
  {
   "cell_type": "code",
   "execution_count": 57,
   "metadata": {
    "collapsed": false
   },
   "outputs": [
    {
     "data": {},
     "metadata": {},
     "output_type": "display_data"
    },
    {
     "data": {
      "image/png": "[encoded data removed]",
      "text/plain": [
       "plot without title"
      ]
     },
     "metadata": {},
     "output_type": "display_data"
    }
   ],
   "source": [
    "ggplot(ames, aes(x=Foundation, y=SalePrice)) + \n",
    "    stat_summary(fun.y=\"mean\", geom=\"bar\", fill = \"rosybrown\") +\n",
    "    labs(title = \"Average Sale Price of Houses with Different Foundation Types\", subtitle = \"Ames, Iowa\")"
   ]
  },
  {
   "cell_type": "markdown",
   "metadata": {},
   "source": [
    "From this graph, houses with a poured concrete foundation (PConc) tend to cost more than other types of foundation. Slab foundations cost the least. From these different graphs, you can determine which features tend to influence sale price."
   ]
  }
 ],
 "metadata": {
  "anaconda-cloud": {},
  "kernelspec": {
   "display_name": "R",
   "language": "R",
   "name": "ir"
  },
  "language_info": {
   "codemirror_mode": "r",
   "file_extension": ".r",
   "mimetype": "text/x-r-source",
   "name": "R",
   "pygments_lexer": "r",
   "version": "3.3.2"
  }
 },
 "nbformat": 4,
 "nbformat_minor": 0
}
