{
 "cells": [
  {
   "cell_type": "markdown",
   "metadata": {},
   "source": [
    "# Principle Component Analysis\n",
    "\n",
    "The following is a principal component analysis of the top 10 features in the Ames, Iowa dataset determined by a linear regression. \n",
    "\n",
    "Prepare a principal component analysis of these 10 features. \n",
    "Visualize the loadings and prepare an hypothesis about what each of the important principal components means that would be understandable to a non-data person"
   ]
  },
  {
   "cell_type": "code",
   "execution_count": 1,
   "metadata": {},
   "outputs": [
    {
     "name": "stderr",
     "output_type": "stream",
     "text": [
      "Loading required package: lattice\n",
      "Loading required package: ggplot2\n",
      "\n",
      "Attaching package: ‘dplyr’\n",
      "\n",
      "The following objects are masked from ‘package:stats’:\n",
      "\n",
      "    filter, lag\n",
      "\n",
      "The following objects are masked from ‘package:base’:\n",
      "\n",
      "    intersect, setdiff, setequal, union\n",
      "\n"
     ]
    }
   ],
   "source": [
    "library(caret)\n",
    "library(ggplot2)\n",
    "library(dplyr)\n",
    "set.seed(100)"
   ]
  },
  {
   "cell_type": "code",
   "execution_count": 39,
   "metadata": {},
   "outputs": [],
   "source": [
    "### Loading in Data Set - Refer to 01. EDA for more details\n",
    "ames_URL <- 'https://ww2.amstat.org/publications/jse/v19n3/decock/AmesHousing.txt'\n",
    "ames <- read.table(url(ames_URL), sep = '\\t', header = TRUE)\n",
    "\n",
    "ames$Order <- NULL\n",
    "ames$PID <- NULL\n",
    "\n",
    "to_be_factors <- c(\"MS.SubClass\", \"Overall.Qual\", \"Overall.Cond\", \"Bsmt.Full.Bath\", \"Bsmt.Half.Bath\", \"Full.Bath\", \n",
    "                   \"Half.Bath\", \"Bedroom.AbvGr\", \"Kitchen.AbvGr\", \"TotRms.AbvGrd\", \"Fireplaces\", \"Garage.Cars\", \"Mo.Sold\",\n",
    "                   \"Yr.Sold\", \"Year.Built\", \"Year.Remod.Add\")\n",
    "ames[to_be_factors] <- lapply(ames[to_be_factors], factor)\n",
    "\n",
    "ames$Lot.Frontage[is.na(ames$Lot.Frontage)] <- mean(ames$Lot.Frontage, na.rm=TRUE)\n",
    "ames$Mas.Vnr.Area[is.na(ames$Mas.Vnr.Area)] <- mean(ames$Mas.Vnr.Area, na.rm=TRUE)\n",
    "ames$Garage.Yr.Blt[is.na(ames$Garage.Yr.Blt)] <- mean(ames$Garage.Yr.Blt, na.rm=TRUE)\n",
    "\n",
    "empty_means_without <-c(\"Alley\",\"Bsmt.Qual\",\"Bsmt.Cond\",\"Bsmt.Exposure\",\"BsmtFin.Type.1\", \"BsmtFin.Type.2\", \"Fireplace.Qu\",\n",
    "                        \"Garage.Type\",\"Garage.Finish\", \"Garage.Qual\",\"Garage.Cond\",\"Pool.QC\",\"Fence\",\"Misc.Feature\")\n",
    "\n",
    "replace_empty_with_without <- function(feature) {\n",
    "    levels(feature) <- c(levels(feature), \"Without\")\n",
    "    feature[is.na(feature)] <- \"Without\"\n",
    "    return(feature)\n",
    "}\n",
    "\n",
    "for (feature in empty_means_without) {\n",
    "    ames[,feature] <- replace_empty_with_without(ames[,feature])\n",
    "}\n",
    "\n",
    "ames <- na.omit(ames)\n",
    "\n",
    "dummy <- dummyVars(\" ~ .\", data = ames)\n",
    "ames <- data.frame(predict(dummy, newdata = ames))"
   ]
  },
  {
   "cell_type": "code",
   "execution_count": 40,
   "metadata": {},
   "outputs": [],
   "source": [
    "top10 <- c('Bedroom.AbvGr','TotRms.AbvGrd','Overall.Qual','X2nd.Flr.SF',\n",
    "           'Bsmt.Full.Bath','Roof.Style','X1st.Flr.SF','BsmtFin.SF.1','Full.Bath','Overall.Cond')\n",
    "\n",
    "top10 <- c('Bedroom.AbvGr.3','Bedroom.AbvGr.2','TotRms.AbvGrd.6','TotRms.AbvGrd.7','TotRms.AbvGrd.5','Bedroom.AbvGr.4',\n",
    "           'TotRms.AbvGrd.8','TotRms.AbvGrd.4','Bedroom.AbvGr.1','TotRms.AbvGrd.9')"
   ]
  },
  {
   "cell_type": "code",
   "execution_count": 41,
   "metadata": {},
   "outputs": [
    {
     "data": {
      "text/html": [
       "<table>\n",
       "<thead><tr><th scope=col>Bedroom.AbvGr.3</th><th scope=col>Bedroom.AbvGr.2</th><th scope=col>TotRms.AbvGrd.6</th><th scope=col>TotRms.AbvGrd.7</th><th scope=col>TotRms.AbvGrd.5</th><th scope=col>Bedroom.AbvGr.4</th><th scope=col>TotRms.AbvGrd.8</th><th scope=col>TotRms.AbvGrd.4</th><th scope=col>Bedroom.AbvGr.1</th><th scope=col>TotRms.AbvGrd.9</th></tr></thead>\n",
       "<tbody>\n",
       "\t<tr><td>1</td><td>0</td><td>0</td><td>1</td><td>0</td><td>0</td><td>0</td><td>0</td><td>0</td><td>0</td></tr>\n",
       "\t<tr><td>0</td><td>1</td><td>0</td><td>0</td><td>1</td><td>0</td><td>0</td><td>0</td><td>0</td><td>0</td></tr>\n",
       "\t<tr><td>1</td><td>0</td><td>1</td><td>0</td><td>0</td><td>0</td><td>0</td><td>0</td><td>0</td><td>0</td></tr>\n",
       "\t<tr><td>1</td><td>0</td><td>0</td><td>0</td><td>0</td><td>0</td><td>1</td><td>0</td><td>0</td><td>0</td></tr>\n",
       "\t<tr><td>1</td><td>0</td><td>1</td><td>0</td><td>0</td><td>0</td><td>0</td><td>0</td><td>0</td><td>0</td></tr>\n",
       "\t<tr><td>1</td><td>0</td><td>0</td><td>1</td><td>0</td><td>0</td><td>0</td><td>0</td><td>0</td><td>0</td></tr>\n",
       "</tbody>\n",
       "</table>\n"
      ],
      "text/latex": [
       "\\begin{tabular}{r|llllllllll}\n",
       " Bedroom.AbvGr.3 & Bedroom.AbvGr.2 & TotRms.AbvGrd.6 & TotRms.AbvGrd.7 & TotRms.AbvGrd.5 & Bedroom.AbvGr.4 & TotRms.AbvGrd.8 & TotRms.AbvGrd.4 & Bedroom.AbvGr.1 & TotRms.AbvGrd.9\\\\\n",
       "\\hline\n",
       "\t 1 & 0 & 0 & 1 & 0 & 0 & 0 & 0 & 0 & 0\\\\\n",
       "\t 0 & 1 & 0 & 0 & 1 & 0 & 0 & 0 & 0 & 0\\\\\n",
       "\t 1 & 0 & 1 & 0 & 0 & 0 & 0 & 0 & 0 & 0\\\\\n",
       "\t 1 & 0 & 0 & 0 & 0 & 0 & 1 & 0 & 0 & 0\\\\\n",
       "\t 1 & 0 & 1 & 0 & 0 & 0 & 0 & 0 & 0 & 0\\\\\n",
       "\t 1 & 0 & 0 & 1 & 0 & 0 & 0 & 0 & 0 & 0\\\\\n",
       "\\end{tabular}\n"
      ],
      "text/markdown": [
       "\n",
       "Bedroom.AbvGr.3 | Bedroom.AbvGr.2 | TotRms.AbvGrd.6 | TotRms.AbvGrd.7 | TotRms.AbvGrd.5 | Bedroom.AbvGr.4 | TotRms.AbvGrd.8 | TotRms.AbvGrd.4 | Bedroom.AbvGr.1 | TotRms.AbvGrd.9 | \n",
       "|---|---|---|---|---|---|\n",
       "| 1 | 0 | 0 | 1 | 0 | 0 | 0 | 0 | 0 | 0 | \n",
       "| 0 | 1 | 0 | 0 | 1 | 0 | 0 | 0 | 0 | 0 | \n",
       "| 1 | 0 | 1 | 0 | 0 | 0 | 0 | 0 | 0 | 0 | \n",
       "| 1 | 0 | 0 | 0 | 0 | 0 | 1 | 0 | 0 | 0 | \n",
       "| 1 | 0 | 1 | 0 | 0 | 0 | 0 | 0 | 0 | 0 | \n",
       "| 1 | 0 | 0 | 1 | 0 | 0 | 0 | 0 | 0 | 0 | \n",
       "\n",
       "\n"
      ],
      "text/plain": [
       "  Bedroom.AbvGr.3 Bedroom.AbvGr.2 TotRms.AbvGrd.6 TotRms.AbvGrd.7\n",
       "1 1               0               0               1              \n",
       "2 0               1               0               0              \n",
       "3 1               0               1               0              \n",
       "4 1               0               0               0              \n",
       "5 1               0               1               0              \n",
       "6 1               0               0               1              \n",
       "  TotRms.AbvGrd.5 Bedroom.AbvGr.4 TotRms.AbvGrd.8 TotRms.AbvGrd.4\n",
       "1 0               0               0               0              \n",
       "2 1               0               0               0              \n",
       "3 0               0               0               0              \n",
       "4 0               0               1               0              \n",
       "5 0               0               0               0              \n",
       "6 0               0               0               0              \n",
       "  Bedroom.AbvGr.1 TotRms.AbvGrd.9\n",
       "1 0               0              \n",
       "2 0               0              \n",
       "3 0               0              \n",
       "4 0               0              \n",
       "5 0               0              \n",
       "6 0               0              "
      ]
     },
     "metadata": {},
     "output_type": "display_data"
    }
   ],
   "source": [
    "head(ames[top10])"
   ]
  },
  {
   "cell_type": "code",
   "execution_count": 42,
   "metadata": {},
   "outputs": [],
   "source": [
    "pca <- princomp(ames[top10], cor = TRUE)"
   ]
  },
  {
   "cell_type": "code",
   "execution_count": 44,
   "metadata": {},
   "outputs": [
    {
     "data": {
      "text/plain": [
       "Importance of components:\n",
       "                         Comp.1    Comp.2    Comp.3    Comp.4    Comp.5\n",
       "Standard deviation     1.459887 1.3398605 1.1502210 1.1404091 1.0538219\n",
       "Proportion of Variance 0.213127 0.1795226 0.1323008 0.1300533 0.1110541\n",
       "Cumulative Proportion  0.213127 0.3926496 0.5249504 0.6550037 0.7660578\n",
       "                           Comp.6     Comp.7     Comp.8      Comp.9     Comp.10\n",
       "Standard deviation     0.99924607 0.86707356 0.69704634 0.269702670 0.174642273\n",
       "Proportion of Variance 0.09984927 0.07518166 0.04858736 0.007273953 0.003049992\n",
       "Cumulative Proportion  0.86590704 0.94108869 0.98967605 0.996950008 1.000000000"
      ]
     },
     "metadata": {},
     "output_type": "display_data"
    }
   ],
   "source": [
    "summary(pca)"
   ]
  },
  {
   "cell_type": "code",
   "execution_count": null,
   "metadata": {},
   "outputs": [],
   "source": []
  }
 ],
 "metadata": {
  "kernelspec": {
   "display_name": "R",
   "language": "R",
   "name": "ir"
  },
  "language_info": {
   "codemirror_mode": "r",
   "file_extension": ".r",
   "mimetype": "text/x-r-source",
   "name": "R",
   "pygments_lexer": "r",
   "version": "3.4.1"
  }
 },
 "nbformat": 4,
 "nbformat_minor": 2
}
