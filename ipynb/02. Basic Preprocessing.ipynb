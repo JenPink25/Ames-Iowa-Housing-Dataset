{
 "cells": [
  {
   "cell_type": "markdown",
   "metadata": {},
   "source": [
    "# Basic Preprocessing\n",
    "\n",
    "This notebook will:\n",
    "- Deskew and scale numerical features  \n",
    "- One-hot encode categorical features   \n",
    "- Visualize transformation of three features"
   ]
  },
  {
   "cell_type": "code",
   "execution_count": 110,
   "metadata": {
    "collapsed": false
   },
   "outputs": [],
   "source": [
    "library(dplyr)\n",
    "library(moments)\n",
    "library(repr)\n",
    "library(ggplot2)\n",
    "library(onehot)\n",
    "library(gridExtra)"
   ]
  },
  {
   "cell_type": "code",
   "execution_count": 111,
   "metadata": {
    "collapsed": true
   },
   "outputs": [],
   "source": [
    "### Loading in Data Set - Refer to 01. EDA for more details\n",
    "ames_URL <- 'https://ww2.amstat.org/publications/jse/v19n3/decock/AmesHousing.txt'\n",
    "ames <- read.table(url(ames_URL), sep = '\\t', header = TRUE)\n",
    "\n",
    "ames$Order <- NULL\n",
    "ames$PID <- NULL\n",
    "\n",
    "to_be_factors <- c(\"MS.SubClass\", \"Overall.Qual\", \"Overall.Cond\", \"Bsmt.Full.Bath\", \"Bsmt.Half.Bath\", \"Full.Bath\", \n",
    "                   \"Half.Bath\", \"Bedroom.AbvGr\", \"Kitchen.AbvGr\", \"TotRms.AbvGrd\", \"Fireplaces\", \"Garage.Cars\", \"Mo.Sold\",\n",
    "                   \"Yr.Sold\", \"Year.Built\", \"Year.Remod.Add\")\n",
    "ames[to_be_factors] <- lapply(ames[to_be_factors], factor)\n",
    "\n",
    "ames$Lot.Frontage[is.na(ames$Lot.Frontage)] <- mean(ames$Lot.Frontage, na.rm=TRUE)\n",
    "ames$Mas.Vnr.Area[is.na(ames$Mas.Vnr.Area)] <- mean(ames$Mas.Vnr.Area, na.rm=TRUE)\n",
    "ames$Garage.Yr.Blt[is.na(ames$Garage.Yr.Blt)] <- mean(ames$Garage.Yr.Blt, na.rm=TRUE)\n",
    "\n",
    "empty_means_without <-c(\"Alley\",\"Bsmt.Qual\",\"Bsmt.Cond\",\"Bsmt.Exposure\",\"BsmtFin.Type.1\", \"BsmtFin.Type.2\", \"Fireplace.Qu\",\n",
    "                        \"Garage.Type\",\"Garage.Finish\", \"Garage.Qual\",\"Garage.Cond\",\"Pool.QC\",\"Fence\",\"Misc.Feature\")\n",
    "\n",
    "replace_empty_with_without <- function(feature) {\n",
    "    levels(feature) <- c(levels(feature), \"Without\")\n",
    "    feature[is.na(feature)] <- \"Without\"\n",
    "    return(feature)\n",
    "}\n",
    "\n",
    "for (feature in empty_means_without) {\n",
    "    ames[,feature] <- replace_empty_with_without(ames[,feature])\n",
    "}\n",
    "\n",
    "ames <- na.omit(ames)"
   ]
  },
  {
   "cell_type": "markdown",
   "metadata": {},
   "source": [
    "### Original Dataset Statistics\n",
    "\n",
    "The following looks at the mean, standard deviation, skew and kurtosis of the Ames, Iowa dataset."
   ]
  },
  {
   "cell_type": "code",
   "execution_count": 112,
   "metadata": {
    "collapsed": false
   },
   "outputs": [
    {
     "data": {
      "text/html": [
       "<table>\n",
       "<thead><tr><th scope=col>Feature</th><th scope=col>Mean</th><th scope=col>SD</th><th scope=col>Skewness</th><th scope=col>Kurtosis</th></tr></thead>\n",
       "<tbody>\n",
       "\t<tr><td>Lot.Frontage   </td><td>    69.202613  </td><td>   21.29919    </td><td> 1.6454681     </td><td> 17.143531     </td></tr>\n",
       "\t<tr><td>Lot.Area       </td><td> 10137.138367  </td><td> 7854.13621    </td><td>12.9235464     </td><td>271.297099     </td></tr>\n",
       "\t<tr><td>Mas.Vnr.Area   </td><td>   102.001239  </td><td>  178.46957    </td><td> 2.6143346     </td><td> 12.355049     </td></tr>\n",
       "\t<tr><td>BsmtFin.SF.1   </td><td>   442.744790  </td><td>  455.66887    </td><td> 1.4152473     </td><td>  9.843781     </td></tr>\n",
       "\t<tr><td>BsmtFin.SF.2   </td><td>    49.756406  </td><td>  169.22128    </td><td> 4.1362264     </td><td> 21.731777     </td></tr>\n",
       "\t<tr><td>Bsmt.Unf.SF    </td><td>   559.538435  </td><td>  439.49869    </td><td> 0.9220645     </td><td>  3.405718     </td></tr>\n",
       "\t<tr><td>Total.Bsmt.SF  </td><td>  1052.039631  </td><td>  440.32207    </td><td> 1.1605006     </td><td> 12.142948     </td></tr>\n",
       "\t<tr><td>X1st.Flr.SF    </td><td>  1158.813119  </td><td>  388.94276    </td><td> 1.4003810     </td><td>  9.532848     </td></tr>\n",
       "\t<tr><td>X2nd.Flr.SF    </td><td>   335.497096  </td><td>  428.40465    </td><td> 0.8661617     </td><td>  2.584711     </td></tr>\n",
       "\t<tr><td>Low.Qual.Fin.SF</td><td>     4.681585  </td><td>   46.33400    </td><td>12.1056351     </td><td>178.121524     </td></tr>\n",
       "\t<tr><td>Gr.Liv.Area    </td><td>  1498.991800  </td><td>  503.78503    </td><td> 1.2591521     </td><td>  7.086585     </td></tr>\n",
       "\t<tr><td>Garage.Yr.Blt  </td><td>  1978.149958  </td><td>   24.82894    </td><td>-0.3968167     </td><td>  5.100478     </td></tr>\n",
       "\t<tr><td>Garage.Area    </td><td>   472.833960  </td><td>  215.07234    </td><td> 0.2418777     </td><td>  3.947789     </td></tr>\n",
       "\t<tr><td>Wood.Deck.SF   </td><td>    93.788521  </td><td>  126.39385    </td><td> 1.8415323     </td><td>  9.738020     </td></tr>\n",
       "\t<tr><td>Open.Porch.SF  </td><td>    47.455073  </td><td>   67.23948    </td><td> 2.5297228     </td><td> 13.977639     </td></tr>\n",
       "\t<tr><td>Enclosed.Porch </td><td>    22.962761  </td><td>   64.07391    </td><td> 4.0223169     </td><td> 31.583373     </td></tr>\n",
       "\t<tr><td>X3Ssn.Porch    </td><td>     2.595149  </td><td>   25.15408    </td><td>11.3919897     </td><td>152.572956     </td></tr>\n",
       "\t<tr><td>Screen.Porch   </td><td>    16.018449  </td><td>   56.11377    </td><td> 3.9530573     </td><td> 20.804161     </td></tr>\n",
       "\t<tr><td>Pool.Area      </td><td>     2.245644  </td><td>   35.61535    </td><td>16.9217096     </td><td>301.950186     </td></tr>\n",
       "\t<tr><td>Misc.Val       </td><td>    50.687052  </td><td>  566.63223    </td><td>21.9772596     </td><td>567.654936     </td></tr>\n",
       "\t<tr><td>SalePrice      </td><td>180805.550735  </td><td>79880.47536    </td><td> 1.7444182     </td><td>  8.116249     </td></tr>\n",
       "</tbody>\n",
       "</table>\n"
      ],
      "text/latex": [
       "\\begin{tabular}{r|lllll}\n",
       " Feature & Mean & SD & Skewness & Kurtosis\\\\\n",
       "\\hline\n",
       "\t Lot.Frontage    &     69.202613   &    21.29919     &  1.6454681      &  17.143531     \\\\\n",
       "\t Lot.Area        &  10137.138367   &  7854.13621     & 12.9235464      & 271.297099     \\\\\n",
       "\t Mas.Vnr.Area    &    102.001239   &   178.46957     &  2.6143346      &  12.355049     \\\\\n",
       "\t BsmtFin.SF.1    &    442.744790   &   455.66887     &  1.4152473      &   9.843781     \\\\\n",
       "\t BsmtFin.SF.2    &     49.756406   &   169.22128     &  4.1362264      &  21.731777     \\\\\n",
       "\t Bsmt.Unf.SF     &    559.538435   &   439.49869     &  0.9220645      &   3.405718     \\\\\n",
       "\t Total.Bsmt.SF   &   1052.039631   &   440.32207     &  1.1605006      &  12.142948     \\\\\n",
       "\t X1st.Flr.SF     &   1158.813119   &   388.94276     &  1.4003810      &   9.532848     \\\\\n",
       "\t X2nd.Flr.SF     &    335.497096   &   428.40465     &  0.8661617      &   2.584711     \\\\\n",
       "\t Low.Qual.Fin.SF &      4.681585   &    46.33400     & 12.1056351      & 178.121524     \\\\\n",
       "\t Gr.Liv.Area     &   1498.991800   &   503.78503     &  1.2591521      &   7.086585     \\\\\n",
       "\t Garage.Yr.Blt   &   1978.149958   &    24.82894     & -0.3968167      &   5.100478     \\\\\n",
       "\t Garage.Area     &    472.833960   &   215.07234     &  0.2418777      &   3.947789     \\\\\n",
       "\t Wood.Deck.SF    &     93.788521   &   126.39385     &  1.8415323      &   9.738020     \\\\\n",
       "\t Open.Porch.SF   &     47.455073   &    67.23948     &  2.5297228      &  13.977639     \\\\\n",
       "\t Enclosed.Porch  &     22.962761   &    64.07391     &  4.0223169      &  31.583373     \\\\\n",
       "\t X3Ssn.Porch     &      2.595149   &    25.15408     & 11.3919897      & 152.572956     \\\\\n",
       "\t Screen.Porch    &     16.018449   &    56.11377     &  3.9530573      &  20.804161     \\\\\n",
       "\t Pool.Area       &      2.245644   &    35.61535     & 16.9217096      & 301.950186     \\\\\n",
       "\t Misc.Val        &     50.687052   &   566.63223     & 21.9772596      & 567.654936     \\\\\n",
       "\t SalePrice       & 180805.550735   & 79880.47536     &  1.7444182      &   8.116249     \\\\\n",
       "\\end{tabular}\n"
      ],
      "text/markdown": [
       "\n",
       "Feature | Mean | SD | Skewness | Kurtosis | \n",
       "|---|---|---|---|---|---|---|---|---|---|---|---|---|---|---|---|---|---|---|---|---|\n",
       "| Lot.Frontage    |     69.202613   |    21.29919     |  1.6454681      |  17.143531      | \n",
       "| Lot.Area        |  10137.138367   |  7854.13621     | 12.9235464      | 271.297099      | \n",
       "| Mas.Vnr.Area    |    102.001239   |   178.46957     |  2.6143346      |  12.355049      | \n",
       "| BsmtFin.SF.1    |    442.744790   |   455.66887     |  1.4152473      |   9.843781      | \n",
       "| BsmtFin.SF.2    |     49.756406   |   169.22128     |  4.1362264      |  21.731777      | \n",
       "| Bsmt.Unf.SF     |    559.538435   |   439.49869     |  0.9220645      |   3.405718      | \n",
       "| Total.Bsmt.SF   |   1052.039631   |   440.32207     |  1.1605006      |  12.142948      | \n",
       "| X1st.Flr.SF     |   1158.813119   |   388.94276     |  1.4003810      |   9.532848      | \n",
       "| X2nd.Flr.SF     |    335.497096   |   428.40465     |  0.8661617      |   2.584711      | \n",
       "| Low.Qual.Fin.SF |      4.681585   |    46.33400     | 12.1056351      | 178.121524      | \n",
       "| Gr.Liv.Area     |   1498.991800   |   503.78503     |  1.2591521      |   7.086585      | \n",
       "| Garage.Yr.Blt   |   1978.149958   |    24.82894     | -0.3968167      |   5.100478      | \n",
       "| Garage.Area     |    472.833960   |   215.07234     |  0.2418777      |   3.947789      | \n",
       "| Wood.Deck.SF    |     93.788521   |   126.39385     |  1.8415323      |   9.738020      | \n",
       "| Open.Porch.SF   |     47.455073   |    67.23948     |  2.5297228      |  13.977639      | \n",
       "| Enclosed.Porch  |     22.962761   |    64.07391     |  4.0223169      |  31.583373      | \n",
       "| X3Ssn.Porch     |      2.595149   |    25.15408     | 11.3919897      | 152.572956      | \n",
       "| Screen.Porch    |     16.018449   |    56.11377     |  3.9530573      |  20.804161      | \n",
       "| Pool.Area       |      2.245644   |    35.61535     | 16.9217096      | 301.950186      | \n",
       "| Misc.Val        |     50.687052   |   566.63223     | 21.9772596      | 567.654936      | \n",
       "| SalePrice       | 180805.550735   | 79880.47536     |  1.7444182      |   8.116249      | \n",
       "\n",
       "\n"
      ],
      "text/plain": [
       "   Feature         Mean          SD          Skewness   Kurtosis  \n",
       "1  Lot.Frontage        69.202613    21.29919  1.6454681  17.143531\n",
       "2  Lot.Area         10137.138367  7854.13621 12.9235464 271.297099\n",
       "3  Mas.Vnr.Area       102.001239   178.46957  2.6143346  12.355049\n",
       "4  BsmtFin.SF.1       442.744790   455.66887  1.4152473   9.843781\n",
       "5  BsmtFin.SF.2        49.756406   169.22128  4.1362264  21.731777\n",
       "6  Bsmt.Unf.SF        559.538435   439.49869  0.9220645   3.405718\n",
       "7  Total.Bsmt.SF     1052.039631   440.32207  1.1605006  12.142948\n",
       "8  X1st.Flr.SF       1158.813119   388.94276  1.4003810   9.532848\n",
       "9  X2nd.Flr.SF        335.497096   428.40465  0.8661617   2.584711\n",
       "10 Low.Qual.Fin.SF      4.681585    46.33400 12.1056351 178.121524\n",
       "11 Gr.Liv.Area       1498.991800   503.78503  1.2591521   7.086585\n",
       "12 Garage.Yr.Blt     1978.149958    24.82894 -0.3968167   5.100478\n",
       "13 Garage.Area        472.833960   215.07234  0.2418777   3.947789\n",
       "14 Wood.Deck.SF        93.788521   126.39385  1.8415323   9.738020\n",
       "15 Open.Porch.SF       47.455073    67.23948  2.5297228  13.977639\n",
       "16 Enclosed.Porch      22.962761    64.07391  4.0223169  31.583373\n",
       "17 X3Ssn.Porch          2.595149    25.15408 11.3919897 152.572956\n",
       "18 Screen.Porch        16.018449    56.11377  3.9530573  20.804161\n",
       "19 Pool.Area            2.245644    35.61535 16.9217096 301.950186\n",
       "20 Misc.Val            50.687052   566.63223 21.9772596 567.654936\n",
       "21 SalePrice       180805.550735 79880.47536  1.7444182   8.116249"
      ]
     },
     "metadata": {},
     "output_type": "display_data"
    }
   ],
   "source": [
    "num_vars <- sapply(ames, is.numeric)\n",
    "ames_stats <- data.frame(Feature = colnames(ames[num_vars]))\n",
    "\n",
    "options(scipen=10000)\n",
    "ames_stats['Mean'] <- sapply(ames[num_vars], mean)\n",
    "ames_stats['SD'] <- sapply(ames[num_vars], sd)\n",
    "ames_stats['Skewness'] <- sapply(ames[num_vars], skewness)\n",
    "ames_stats['Kurtosis'] <- sapply(ames[num_vars], kurtosis)\n",
    "ames_stats"
   ]
  },
  {
   "cell_type": "markdown",
   "metadata": {},
   "source": [
    "## Standardizing and Deskewing the Data\n",
    "\n",
    "Applying a log transformation to the original data and then standardizing it will pull the outliers closer to the mean, and thus, reducing skewness."
   ]
  },
  {
   "cell_type": "code",
   "execution_count": 113,
   "metadata": {
    "collapsed": false,
    "scrolled": false
   },
   "outputs": [
    {
     "data": {
      "text/html": [
       "<table>\n",
       "<thead><tr><th scope=col>Feature</th><th scope=col>Mean</th><th scope=col>SD</th><th scope=col>Skewness</th><th scope=col>Kurtosis</th><th scope=col>Mean_Scaled</th><th scope=col>SD_Scaled</th><th scope=col>Skewness_Scaled</th><th scope=col>Kurtosis_scaled</th></tr></thead>\n",
       "<tbody>\n",
       "\t<tr><td>Lot.Frontage               </td><td>    69.202613              </td><td>   21.29919                </td><td> 1.6454681                 </td><td> 17.143531                 </td><td>-0.000000000000000341991573</td><td>1                          </td><td>-1.01471310                </td><td>  6.098792                 </td></tr>\n",
       "\t<tr><td>Lot.Area                   </td><td> 10137.138367              </td><td> 7854.13621                </td><td>12.9235464                 </td><td>271.297099                 </td><td>-0.000000000000001069952572</td><td>1                          </td><td>-0.50984841                </td><td>  6.675537                 </td></tr>\n",
       "\t<tr><td>Mas.Vnr.Area               </td><td>   102.001239              </td><td>  178.46957                </td><td> 2.6143346                 </td><td> 12.355049                 </td><td> 0.000000000000000043420908</td><td>1                          </td><td> 0.50761398                </td><td>  1.386115                 </td></tr>\n",
       "\t<tr><td>BsmtFin.SF.1               </td><td>   442.744790              </td><td>  455.66887                </td><td> 1.4152473                 </td><td>  9.843781                 </td><td>-0.000000000000000116782798</td><td>1                          </td><td>-0.62240336                </td><td>  1.541294                 </td></tr>\n",
       "\t<tr><td>BsmtFin.SF.2               </td><td>    49.756406              </td><td>  169.22128                </td><td> 4.1362264                 </td><td> 21.731777                 </td><td> 0.000000000000000008608702</td><td>1                          </td><td> 2.44724273                </td><td>  7.170566                 </td></tr>\n",
       "\t<tr><td>Bsmt.Unf.SF                </td><td>   559.538435              </td><td>  439.49869                </td><td> 0.9220645                 </td><td>  3.405718                 </td><td>-0.000000000000000038797415</td><td>1                          </td><td>-2.15061180                </td><td>  6.929870                 </td></tr>\n",
       "\t<tr><td>Total.Bsmt.SF              </td><td>  1052.039631              </td><td>  440.32207                </td><td> 1.1605006                 </td><td> 12.142948                 </td><td> 0.000000000000000120851742</td><td>1                          </td><td>-4.98818404                </td><td> 28.875499                 </td></tr>\n",
       "\t<tr><td>X1st.Flr.SF                </td><td>  1158.813119              </td><td>  388.94276                </td><td> 1.4003810                 </td><td>  9.532848                 </td><td> 0.000000000000001202476887</td><td>1                          </td><td> 0.04596603                </td><td>  3.114125                 </td></tr>\n",
       "\t<tr><td>X2nd.Flr.SF                </td><td>   335.497096              </td><td>  428.40465                </td><td> 0.8661617                 </td><td>  2.584711                 </td><td>-0.000000000000000047019000</td><td>1                          </td><td> 0.30985572                </td><td>  1.116775                 </td></tr>\n",
       "\t<tr><td>Low.Qual.Fin.SF            </td><td>     4.681585              </td><td>   46.33400                </td><td>12.1056351                 </td><td>178.121524                 </td><td>-0.000000000000000003526296</td><td>1                          </td><td> 8.56988462                </td><td> 75.397022                 </td></tr>\n",
       "\t<tr><td>Gr.Liv.Area                </td><td>  1498.991800              </td><td>  503.78503                </td><td> 1.2591521                 </td><td>  7.086585                 </td><td> 0.000000000000000199168828</td><td>1                          </td><td> 0.01017696                </td><td>  3.205519                 </td></tr>\n",
       "\t<tr><td>Garage.Yr.Blt              </td><td>  1978.149958              </td><td>   24.82894                </td><td>-0.3968167                 </td><td>  5.100478                 </td><td>-0.000000000000024191715435</td><td>1                          </td><td>-0.46558749                </td><td>  4.668121                 </td></tr>\n",
       "\t<tr><td>Garage.Area                </td><td>   472.833960              </td><td>  215.07234                </td><td> 0.2418777                 </td><td>  3.947789                 </td><td> 0.000000000000000143120595</td><td>1                          </td><td>-3.52743546                </td><td> 14.561631                 </td></tr>\n",
       "\t<tr><td>Wood.Deck.SF               </td><td>    93.788521              </td><td>  126.39385                </td><td> 1.8415323                 </td><td>  9.738020                 </td><td> 0.000000000000000067562946</td><td>1                          </td><td> 0.15359308                </td><td>  1.106349                 </td></tr>\n",
       "\t<tr><td>Open.Porch.SF              </td><td>    47.455073              </td><td>   67.23948                </td><td> 2.5297228                 </td><td> 13.977639                 </td><td>-0.000000000000000091489587</td><td>1                          </td><td>-0.04755417                </td><td>  1.228888                 </td></tr>\n",
       "\t<tr><td>Enclosed.Porch             </td><td>    22.962761              </td><td>   64.07391                </td><td> 4.0223169                 </td><td> 31.583373                 </td><td>-0.000000000000000009214403</td><td>1                          </td><td> 1.96929048                </td><td>  5.002852                 </td></tr>\n",
       "\t<tr><td>X3Ssn.Porch                </td><td>     2.595149              </td><td>   25.15408                </td><td>11.3919897                 </td><td>152.572956                 </td><td>-0.000000000000000014935052</td><td>1                          </td><td> 8.83780227                </td><td> 79.673430                 </td></tr>\n",
       "\t<tr><td>Screen.Porch               </td><td>    16.018449              </td><td>   56.11377                </td><td> 3.9530573                 </td><td> 20.804161                 </td><td> 0.000000000000000031280714</td><td>1                          </td><td> 2.95124071                </td><td>  9.781388                 </td></tr>\n",
       "\t<tr><td>Pool.Area                  </td><td>     2.245644              </td><td>   35.61535                </td><td>16.9217096                 </td><td>301.950186                 </td><td>-0.000000000000000009673143</td><td>1                          </td><td>15.01914627                </td><td>227.558347                 </td></tr>\n",
       "\t<tr><td>Misc.Val                   </td><td>    50.687052              </td><td>  566.63223                </td><td>21.9772596                 </td><td>567.654936                 </td><td>-0.000000000000000005350799</td><td>1                          </td><td> 5.22189229                </td><td> 29.027891                 </td></tr>\n",
       "\t<tr><td>SalePrice                  </td><td>180805.550735              </td><td>79880.47536                </td><td> 1.7444182                 </td><td>  8.116249                 </td><td>-0.000000000000000617279580</td><td>1                          </td><td>-0.01426051                </td><td>  4.515568                 </td></tr>\n",
       "</tbody>\n",
       "</table>\n"
      ],
      "text/latex": [
       "\\begin{tabular}{r|lllllllll}\n",
       " Feature & Mean & SD & Skewness & Kurtosis & Mean\\_Scaled & SD\\_Scaled & Skewness\\_Scaled & Kurtosis\\_scaled\\\\\n",
       "\\hline\n",
       "\t Lot.Frontage                &     69.202613               &    21.29919                 &  1.6454681                  &  17.143531                  & -0.000000000000000341991573 & 1                           & -1.01471310                 &   6.098792                 \\\\\n",
       "\t Lot.Area                    &  10137.138367               &  7854.13621                 & 12.9235464                  & 271.297099                  & -0.000000000000001069952572 & 1                           & -0.50984841                 &   6.675537                 \\\\\n",
       "\t Mas.Vnr.Area                &    102.001239               &   178.46957                 &  2.6143346                  &  12.355049                  &  0.000000000000000043420908 & 1                           &  0.50761398                 &   1.386115                 \\\\\n",
       "\t BsmtFin.SF.1                &    442.744790               &   455.66887                 &  1.4152473                  &   9.843781                  & -0.000000000000000116782798 & 1                           & -0.62240336                 &   1.541294                 \\\\\n",
       "\t BsmtFin.SF.2                &     49.756406               &   169.22128                 &  4.1362264                  &  21.731777                  &  0.000000000000000008608702 & 1                           &  2.44724273                 &   7.170566                 \\\\\n",
       "\t Bsmt.Unf.SF                 &    559.538435               &   439.49869                 &  0.9220645                  &   3.405718                  & -0.000000000000000038797415 & 1                           & -2.15061180                 &   6.929870                 \\\\\n",
       "\t Total.Bsmt.SF               &   1052.039631               &   440.32207                 &  1.1605006                  &  12.142948                  &  0.000000000000000120851742 & 1                           & -4.98818404                 &  28.875499                 \\\\\n",
       "\t X1st.Flr.SF                 &   1158.813119               &   388.94276                 &  1.4003810                  &   9.532848                  &  0.000000000000001202476887 & 1                           &  0.04596603                 &   3.114125                 \\\\\n",
       "\t X2nd.Flr.SF                 &    335.497096               &   428.40465                 &  0.8661617                  &   2.584711                  & -0.000000000000000047019000 & 1                           &  0.30985572                 &   1.116775                 \\\\\n",
       "\t Low.Qual.Fin.SF             &      4.681585               &    46.33400                 & 12.1056351                  & 178.121524                  & -0.000000000000000003526296 & 1                           &  8.56988462                 &  75.397022                 \\\\\n",
       "\t Gr.Liv.Area                 &   1498.991800               &   503.78503                 &  1.2591521                  &   7.086585                  &  0.000000000000000199168828 & 1                           &  0.01017696                 &   3.205519                 \\\\\n",
       "\t Garage.Yr.Blt               &   1978.149958               &    24.82894                 & -0.3968167                  &   5.100478                  & -0.000000000000024191715435 & 1                           & -0.46558749                 &   4.668121                 \\\\\n",
       "\t Garage.Area                 &    472.833960               &   215.07234                 &  0.2418777                  &   3.947789                  &  0.000000000000000143120595 & 1                           & -3.52743546                 &  14.561631                 \\\\\n",
       "\t Wood.Deck.SF                &     93.788521               &   126.39385                 &  1.8415323                  &   9.738020                  &  0.000000000000000067562946 & 1                           &  0.15359308                 &   1.106349                 \\\\\n",
       "\t Open.Porch.SF               &     47.455073               &    67.23948                 &  2.5297228                  &  13.977639                  & -0.000000000000000091489587 & 1                           & -0.04755417                 &   1.228888                 \\\\\n",
       "\t Enclosed.Porch              &     22.962761               &    64.07391                 &  4.0223169                  &  31.583373                  & -0.000000000000000009214403 & 1                           &  1.96929048                 &   5.002852                 \\\\\n",
       "\t X3Ssn.Porch                 &      2.595149               &    25.15408                 & 11.3919897                  & 152.572956                  & -0.000000000000000014935052 & 1                           &  8.83780227                 &  79.673430                 \\\\\n",
       "\t Screen.Porch                &     16.018449               &    56.11377                 &  3.9530573                  &  20.804161                  &  0.000000000000000031280714 & 1                           &  2.95124071                 &   9.781388                 \\\\\n",
       "\t Pool.Area                   &      2.245644               &    35.61535                 & 16.9217096                  & 301.950186                  & -0.000000000000000009673143 & 1                           & 15.01914627                 & 227.558347                 \\\\\n",
       "\t Misc.Val                    &     50.687052               &   566.63223                 & 21.9772596                  & 567.654936                  & -0.000000000000000005350799 & 1                           &  5.22189229                 &  29.027891                 \\\\\n",
       "\t SalePrice                   & 180805.550735               & 79880.47536                 &  1.7444182                  &   8.116249                  & -0.000000000000000617279580 & 1                           & -0.01426051                 &   4.515568                 \\\\\n",
       "\\end{tabular}\n"
      ],
      "text/markdown": [
       "\n",
       "Feature | Mean | SD | Skewness | Kurtosis | Mean_Scaled | SD_Scaled | Skewness_Scaled | Kurtosis_scaled | \n",
       "|---|---|---|---|---|---|---|---|---|---|---|---|---|---|---|---|---|---|---|---|---|\n",
       "| Lot.Frontage                |     69.202613               |    21.29919                 |  1.6454681                  |  17.143531                  | -0.000000000000000341991573 | 1                           | -1.01471310                 |   6.098792                  | \n",
       "| Lot.Area                    |  10137.138367               |  7854.13621                 | 12.9235464                  | 271.297099                  | -0.000000000000001069952572 | 1                           | -0.50984841                 |   6.675537                  | \n",
       "| Mas.Vnr.Area                |    102.001239               |   178.46957                 |  2.6143346                  |  12.355049                  |  0.000000000000000043420908 | 1                           |  0.50761398                 |   1.386115                  | \n",
       "| BsmtFin.SF.1                |    442.744790               |   455.66887                 |  1.4152473                  |   9.843781                  | -0.000000000000000116782798 | 1                           | -0.62240336                 |   1.541294                  | \n",
       "| BsmtFin.SF.2                |     49.756406               |   169.22128                 |  4.1362264                  |  21.731777                  |  0.000000000000000008608702 | 1                           |  2.44724273                 |   7.170566                  | \n",
       "| Bsmt.Unf.SF                 |    559.538435               |   439.49869                 |  0.9220645                  |   3.405718                  | -0.000000000000000038797415 | 1                           | -2.15061180                 |   6.929870                  | \n",
       "| Total.Bsmt.SF               |   1052.039631               |   440.32207                 |  1.1605006                  |  12.142948                  |  0.000000000000000120851742 | 1                           | -4.98818404                 |  28.875499                  | \n",
       "| X1st.Flr.SF                 |   1158.813119               |   388.94276                 |  1.4003810                  |   9.532848                  |  0.000000000000001202476887 | 1                           |  0.04596603                 |   3.114125                  | \n",
       "| X2nd.Flr.SF                 |    335.497096               |   428.40465                 |  0.8661617                  |   2.584711                  | -0.000000000000000047019000 | 1                           |  0.30985572                 |   1.116775                  | \n",
       "| Low.Qual.Fin.SF             |      4.681585               |    46.33400                 | 12.1056351                  | 178.121524                  | -0.000000000000000003526296 | 1                           |  8.56988462                 |  75.397022                  | \n",
       "| Gr.Liv.Area                 |   1498.991800               |   503.78503                 |  1.2591521                  |   7.086585                  |  0.000000000000000199168828 | 1                           |  0.01017696                 |   3.205519                  | \n",
       "| Garage.Yr.Blt               |   1978.149958               |    24.82894                 | -0.3968167                  |   5.100478                  | -0.000000000000024191715435 | 1                           | -0.46558749                 |   4.668121                  | \n",
       "| Garage.Area                 |    472.833960               |   215.07234                 |  0.2418777                  |   3.947789                  |  0.000000000000000143120595 | 1                           | -3.52743546                 |  14.561631                  | \n",
       "| Wood.Deck.SF                |     93.788521               |   126.39385                 |  1.8415323                  |   9.738020                  |  0.000000000000000067562946 | 1                           |  0.15359308                 |   1.106349                  | \n",
       "| Open.Porch.SF               |     47.455073               |    67.23948                 |  2.5297228                  |  13.977639                  | -0.000000000000000091489587 | 1                           | -0.04755417                 |   1.228888                  | \n",
       "| Enclosed.Porch              |     22.962761               |    64.07391                 |  4.0223169                  |  31.583373                  | -0.000000000000000009214403 | 1                           |  1.96929048                 |   5.002852                  | \n",
       "| X3Ssn.Porch                 |      2.595149               |    25.15408                 | 11.3919897                  | 152.572956                  | -0.000000000000000014935052 | 1                           |  8.83780227                 |  79.673430                  | \n",
       "| Screen.Porch                |     16.018449               |    56.11377                 |  3.9530573                  |  20.804161                  |  0.000000000000000031280714 | 1                           |  2.95124071                 |   9.781388                  | \n",
       "| Pool.Area                   |      2.245644               |    35.61535                 | 16.9217096                  | 301.950186                  | -0.000000000000000009673143 | 1                           | 15.01914627                 | 227.558347                  | \n",
       "| Misc.Val                    |     50.687052               |   566.63223                 | 21.9772596                  | 567.654936                  | -0.000000000000000005350799 | 1                           |  5.22189229                 |  29.027891                  | \n",
       "| SalePrice                   | 180805.550735               | 79880.47536                 |  1.7444182                  |   8.116249                  | -0.000000000000000617279580 | 1                           | -0.01426051                 |   4.515568                  | \n",
       "\n",
       "\n"
      ],
      "text/plain": [
       "   Feature         Mean          SD          Skewness   Kurtosis  \n",
       "1  Lot.Frontage        69.202613    21.29919  1.6454681  17.143531\n",
       "2  Lot.Area         10137.138367  7854.13621 12.9235464 271.297099\n",
       "3  Mas.Vnr.Area       102.001239   178.46957  2.6143346  12.355049\n",
       "4  BsmtFin.SF.1       442.744790   455.66887  1.4152473   9.843781\n",
       "5  BsmtFin.SF.2        49.756406   169.22128  4.1362264  21.731777\n",
       "6  Bsmt.Unf.SF        559.538435   439.49869  0.9220645   3.405718\n",
       "7  Total.Bsmt.SF     1052.039631   440.32207  1.1605006  12.142948\n",
       "8  X1st.Flr.SF       1158.813119   388.94276  1.4003810   9.532848\n",
       "9  X2nd.Flr.SF        335.497096   428.40465  0.8661617   2.584711\n",
       "10 Low.Qual.Fin.SF      4.681585    46.33400 12.1056351 178.121524\n",
       "11 Gr.Liv.Area       1498.991800   503.78503  1.2591521   7.086585\n",
       "12 Garage.Yr.Blt     1978.149958    24.82894 -0.3968167   5.100478\n",
       "13 Garage.Area        472.833960   215.07234  0.2418777   3.947789\n",
       "14 Wood.Deck.SF        93.788521   126.39385  1.8415323   9.738020\n",
       "15 Open.Porch.SF       47.455073    67.23948  2.5297228  13.977639\n",
       "16 Enclosed.Porch      22.962761    64.07391  4.0223169  31.583373\n",
       "17 X3Ssn.Porch          2.595149    25.15408 11.3919897 152.572956\n",
       "18 Screen.Porch        16.018449    56.11377  3.9530573  20.804161\n",
       "19 Pool.Area            2.245644    35.61535 16.9217096 301.950186\n",
       "20 Misc.Val            50.687052   566.63223 21.9772596 567.654936\n",
       "21 SalePrice       180805.550735 79880.47536  1.7444182   8.116249\n",
       "   Mean_Scaled                 SD_Scaled Skewness_Scaled Kurtosis_scaled\n",
       "1  -0.000000000000000341991573 1         -1.01471310       6.098792     \n",
       "2  -0.000000000000001069952572 1         -0.50984841       6.675537     \n",
       "3   0.000000000000000043420908 1          0.50761398       1.386115     \n",
       "4  -0.000000000000000116782798 1         -0.62240336       1.541294     \n",
       "5   0.000000000000000008608702 1          2.44724273       7.170566     \n",
       "6  -0.000000000000000038797415 1         -2.15061180       6.929870     \n",
       "7   0.000000000000000120851742 1         -4.98818404      28.875499     \n",
       "8   0.000000000000001202476887 1          0.04596603       3.114125     \n",
       "9  -0.000000000000000047019000 1          0.30985572       1.116775     \n",
       "10 -0.000000000000000003526296 1          8.56988462      75.397022     \n",
       "11  0.000000000000000199168828 1          0.01017696       3.205519     \n",
       "12 -0.000000000000024191715435 1         -0.46558749       4.668121     \n",
       "13  0.000000000000000143120595 1         -3.52743546      14.561631     \n",
       "14  0.000000000000000067562946 1          0.15359308       1.106349     \n",
       "15 -0.000000000000000091489587 1         -0.04755417       1.228888     \n",
       "16 -0.000000000000000009214403 1          1.96929048       5.002852     \n",
       "17 -0.000000000000000014935052 1          8.83780227      79.673430     \n",
       "18  0.000000000000000031280714 1          2.95124071       9.781388     \n",
       "19 -0.000000000000000009673143 1         15.01914627     227.558347     \n",
       "20 -0.000000000000000005350799 1          5.22189229      29.027891     \n",
       "21 -0.000000000000000617279580 1         -0.01426051       4.515568     "
      ]
     },
     "metadata": {},
     "output_type": "display_data"
    }
   ],
   "source": [
    "ames_scaled <- data.frame(scale(log(ames[num_vars] + 1)))\n",
    "ames_stats['Mean_Scaled'] <- sapply(ames_scaled, mean)\n",
    "ames_stats['SD_Scaled'] <- sapply(ames_scaled, sd)\n",
    "ames_stats['Skewness_Scaled'] <- sapply(ames_scaled, skewness)\n",
    "ames_stats['Kurtosis_scaled'] <- sapply(ames_scaled, kurtosis)\n",
    "ames_stats"
   ]
  },
  {
   "cell_type": "markdown",
   "metadata": {},
   "source": [
    "After deskewing and scaling the data, most features' skewness decreased. Only Bsmt.Unf.SF, Total.Bsmt.SF, Garage.Yr.Blt, and Garage.Area did not."
   ]
  },
  {
   "cell_type": "markdown",
   "metadata": {
    "collapsed": true
   },
   "source": [
    "## One-Hot Encode Categorical Variables\n",
    "\n",
    "One hot encoding is a representation of categorical variables as binary vectors so it works better with classification and regression algorithms. These are often times called dummy variables."
   ]
  },
  {
   "cell_type": "code",
   "execution_count": 114,
   "metadata": {
    "collapsed": false
   },
   "outputs": [
    {
     "name": "stderr",
     "output_type": "stream",
     "text": [
      "Warning message:\n",
      "\"Variables excluded for having levels > max_levels: MS.SubClassVariables excluded for having levels > max_levels: NeighborhoodVariables excluded for having levels > max_levels: Year.BuiltVariables excluded for having levels > max_levels: Year.Remod.AddVariables excluded for having levels > max_levels: Exterior.1stVariables excluded for having levels > max_levels: Exterior.2ndVariables excluded for having levels > max_levels: TotRms.AbvGrdVariables excluded for having levels > max_levels: Mo.Sold\""
     ]
    }
   ],
   "source": [
    "cat_vars <- sapply(ames, is.factor)\n",
    "ames_onehot <- onehot(ames[cat_vars])"
   ]
  },
  {
   "cell_type": "markdown",
   "metadata": {},
   "source": [
    "## Visualize Transformations\n",
    "\n",
    "Let's look at the deskewed and scaled transformation of our target variable, Sale Price."
   ]
  },
  {
   "cell_type": "code",
   "execution_count": 150,
   "metadata": {
    "collapsed": false
   },
   "outputs": [
    {
     "data": {},
     "metadata": {},
     "output_type": "display_data"
    },
    {
     "data": {
      "image/png": "[encoded data removed]",
      "text/plain": [
       "plot without title"
      ]
     },
     "metadata": {},
     "output_type": "display_data"
    }
   ],
   "source": [
    "options(repr.plot.height = 4)\n",
    "qplot(ames$SalePrice, geom=\"histogram\", bins=200, alpha=I(.4)) +\n",
    "        geom_vline(aes(xintercept=mean(ames$SalePrice)), color=\"red\", linetype=\"dashed\", size=1) +\n",
    "        geom_vline(aes(xintercept=median(ames$SalePrice)), color=\"blue\", linetype=\"dashed\", size=1) +\n",
    "        ggtitle(\"Sale Price Distribution\") + \n",
    "        xlab(\"Sale Price\") +\n",
    "        ylab(\"Count\")"
   ]
  },
  {
   "cell_type": "markdown",
   "metadata": {},
   "source": [
    "### Other Variables"
   ]
  },
  {
   "cell_type": "code",
   "execution_count": 136,
   "metadata": {
    "collapsed": true
   },
   "outputs": [],
   "source": [
    "special_plot2 <- function (feature1, feature2) {\n",
    "    \n",
    "    p1 <- qplot(feature1, geom=\"histogram\", bins=200, alpha=I(.4),) +\n",
    "        geom_vline(aes(xintercept=mean(feature1)), color=\"red\", linetype=\"dashed\", size=1) +\n",
    "        geom_vline(aes(xintercept=median(feature1)), color=\"blue\", linetype=\"dashed\", size=1) +\n",
    "        ggtitle(paste(\" Distribution of\", deparse(substitute(feature1)))) + \n",
    "        theme(plot.title = element_text(size=10, face = \"bold\"), text = element_text(size=8)) +\n",
    "        xlab(deparse(substitute(feature1))) +\n",
    "        ylab(\"Count\")\n",
    "    \n",
    "    \n",
    "    p2 <- qplot(feature2, geom=\"histogram\", bins=200, alpha=I(.4),)+\n",
    "        geom_vline(aes(xintercept=mean(feature2)), color=\"red\", linetype=\"dashed\", size=1)+\n",
    "        geom_vline(aes(xintercept=median(feature2)), color=\"blue\", linetype=\"dashed\", size=1)+\n",
    "        ggtitle(paste(\" Distribution of\", deparse(substitute(feature2)))) + \n",
    "        theme(plot.title = element_text(size=10, face = \"bold\"), text = element_text(size=8)) +\n",
    "        xlab(deparse(substitute(feature2))) +\n",
    "        ylab(\"Count\")\n",
    "    \n",
    "    grid.arrange(p1, p2, ncol=2)\n",
    "}"
   ]
  },
  {
   "cell_type": "code",
   "execution_count": 137,
   "metadata": {
    "collapsed": false,
    "scrolled": false
   },
   "outputs": [
    {
     "data": {
      "image/png": "[encoded data removed]",
      "text/plain": [
       "plot without title"
      ]
     },
     "metadata": {},
     "output_type": "display_data"
    },
    {
     "data": {
      "image/png": "[encoded data removed]",
      "text/plain": [
       "plot without title"
      ]
     },
     "metadata": {},
     "output_type": "display_data"
    },
    {
     "data": {
      "image/png": "[encoded data removed]",
      "text/plain": [
       "plot without title"
      ]
     },
     "metadata": {},
     "output_type": "display_data"
    },
    {
     "data": {
      "image/png": "[encoded data removed]",
      "text/plain": [
       "plot without title"
      ]
     },
     "metadata": {},
     "output_type": "display_data"
    },
    {
     "data": {
      "image/png": "[encoded data removed]",
      "text/plain": [
       "plot without title"
      ]
     },
     "metadata": {},
     "output_type": "display_data"
    },
    {
     "data": {
      "image/png": "[encoded data removed]",
      "text/plain": [
       "plot without title"
      ]
     },
     "metadata": {},
     "output_type": "display_data"
    },
    {
     "data": {
      "image/png": "[encoded data removed]",
      "text/plain": [
       "plot without title"
      ]
     },
     "metadata": {},
     "output_type": "display_data"
    },
    {
     "data": {
      "image/png": "[encoded data removed]",
      "text/plain": [
       "plot without title"
      ]
     },
     "metadata": {},
     "output_type": "display_data"
    },
    {
     "data": {
      "image/png": "[encoded data removed]",
      "text/plain": [
       "plot without title"
      ]
     },
     "metadata": {},
     "output_type": "display_data"
    },
    {
     "data": {
      "image/png": "[encoded data removed]",
      "text/plain": [
       "plot without title"
      ]
     },
     "metadata": {},
     "output_type": "display_data"
    }
   ],
   "source": [
    "options(repr.plot.height = 2)\n",
    "theme_set(theme_classic())\n",
    "special_plot2(ames$Lot.Frontage, ames$Lot.Area)\n",
    "special_plot2(ames$Mas.Vnr.Area, ames$BsmtFin.SF.1)\n",
    "special_plot2(ames$BsmtFin.SF.2, ames$Bsmt.Unf.SF)\n",
    "special_plot2(ames$Total.Bsmt.SF, ames$X1st.Flr.SF)\n",
    "special_plot2(ames$X2nd.Flr.SF, ames$Low.Qual.Fin.SF)\n",
    "special_plot2(ames$Gr.Liv.Area, ames$Garage.Yr.Blt)\n",
    "special_plot2(ames$Garage.Area, ames$Wood.Deck.SF)\n",
    "special_plot2(ames$Open.Porch.SF, ames$Enclosed.Porch)\n",
    "special_plot2(ames$X3Ssn.Porch, ames$Screen.Porch)\n",
    "special_plot2(ames$Pool.Area, ames$Misc.Val)"
   ]
  },
  {
   "cell_type": "markdown",
   "metadata": {},
   "source": [
    "From these distribution charts, you can see that most variables are right skewed."
   ]
  }
 ],
 "metadata": {
  "anaconda-cloud": {},
  "kernelspec": {
   "display_name": "R",
   "language": "R",
   "name": "ir"
  },
  "language_info": {
   "codemirror_mode": "r",
   "file_extension": ".r",
   "mimetype": "text/x-r-source",
   "name": "R",
   "pygments_lexer": "r",
   "version": "3.3.2"
  }
 },
 "nbformat": 4,
 "nbformat_minor": 0
}
