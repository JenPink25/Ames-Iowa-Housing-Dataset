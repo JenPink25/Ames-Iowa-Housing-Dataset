{
 "cells": [
  {
   "cell_type": "markdown",
   "metadata": {},
   "source": [
    "# Top 10 Features\n",
    "\n",
    "The following will apply a linear regression to find the top ten features in the Ames, Iowa dataset. It is acknowledged that this is not the ideal model for this dataset, but will be used for learning purposes."
   ]
  },
  {
   "cell_type": "code",
   "execution_count": 1,
   "metadata": {},
   "outputs": [
    {
     "name": "stderr",
     "output_type": "stream",
     "text": [
      "Loading required package: lattice\n",
      "Loading required package: ggplot2\n",
      "\n",
      "Attaching package: ‘dplyr’\n",
      "\n",
      "The following objects are masked from ‘package:stats’:\n",
      "\n",
      "    filter, lag\n",
      "\n",
      "The following objects are masked from ‘package:base’:\n",
      "\n",
      "    intersect, setdiff, setequal, union\n",
      "\n"
     ]
    }
   ],
   "source": [
    "library(caret)\n",
    "library(ggplot2)\n",
    "library(dplyr)\n",
    "library(broom)\n",
    "set.seed(100)"
   ]
  },
  {
   "cell_type": "code",
   "execution_count": 2,
   "metadata": {},
   "outputs": [],
   "source": [
    "### Loading in Data Set - Refer to 01. EDA for more details\n",
    "ames_URL <- 'https://ww2.amstat.org/publications/jse/v19n3/decock/AmesHousing.txt'\n",
    "ames <- read.table(url(ames_URL), sep = '\\t', header = TRUE)\n",
    "\n",
    "ames$Order <- NULL\n",
    "ames$PID <- NULL\n",
    "\n",
    "to_be_factors <- c(\"MS.SubClass\", \"Overall.Qual\", \"Overall.Cond\", \"Bsmt.Full.Bath\", \"Bsmt.Half.Bath\", \"Full.Bath\", \n",
    "                   \"Half.Bath\", \"Bedroom.AbvGr\", \"Kitchen.AbvGr\", \"TotRms.AbvGrd\", \"Fireplaces\", \"Garage.Cars\", \"Mo.Sold\",\n",
    "                   \"Yr.Sold\", \"Year.Built\", \"Year.Remod.Add\")\n",
    "ames[to_be_factors] <- lapply(ames[to_be_factors], factor)\n",
    "\n",
    "ames$Lot.Frontage[is.na(ames$Lot.Frontage)] <- mean(ames$Lot.Frontage, na.rm=TRUE)\n",
    "ames$Mas.Vnr.Area[is.na(ames$Mas.Vnr.Area)] <- mean(ames$Mas.Vnr.Area, na.rm=TRUE)\n",
    "ames$Garage.Yr.Blt[is.na(ames$Garage.Yr.Blt)] <- mean(ames$Garage.Yr.Blt, na.rm=TRUE)\n",
    "\n",
    "empty_means_without <-c(\"Alley\",\"Bsmt.Qual\",\"Bsmt.Cond\",\"Bsmt.Exposure\",\"BsmtFin.Type.1\", \"BsmtFin.Type.2\", \"Fireplace.Qu\",\n",
    "                        \"Garage.Type\",\"Garage.Finish\", \"Garage.Qual\",\"Garage.Cond\",\"Pool.QC\",\"Fence\",\"Misc.Feature\")\n",
    "\n",
    "replace_empty_with_without <- function(feature) {\n",
    "    levels(feature) <- c(levels(feature), \"Without\")\n",
    "    feature[is.na(feature)] <- \"Without\"\n",
    "    return(feature)\n",
    "}\n",
    "\n",
    "for (feature in empty_means_without) {\n",
    "    ames[,feature] <- replace_empty_with_without(ames[,feature])\n",
    "}\n",
    "\n",
    "ames <- na.omit(ames)\n",
    "\n",
    "dummy <- dummyVars(\" ~ .\", data = ames)\n",
    "ames <- data.frame(predict(dummy, newdata = ames))"
   ]
  },
  {
   "cell_type": "markdown",
   "metadata": {},
   "source": [
    "Let's begin by creating dummy train and test data sets."
   ]
  },
  {
   "cell_type": "code",
   "execution_count": 3,
   "metadata": {},
   "outputs": [],
   "source": [
    "in_train <- createDataPartition(y = ames$SalePrice, p = 0.6, list = FALSE)\n",
    "train <- ames[in_train,]\n",
    "test <- ames[-in_train,]"
   ]
  },
  {
   "cell_type": "markdown",
   "metadata": {},
   "source": [
    "### Linear Regression\n",
    "\n",
    "To determine the top ten features from the regression, I will look at the standardized regression coefficients, or the predictor variables with the largest absolute value for the standardized coefficient. Regular regression coefficients and p-values will not be used. This is because larger coefficients and low p-values don’t necessarily identify more important predictor variables."
   ]
  },
  {
   "cell_type": "code",
   "execution_count": 4,
   "metadata": {
    "scrolled": true
   },
   "outputs": [],
   "source": [
    "train_S <- data.frame(scale(train)) # standardize training set\n",
    "with_NA <- colnames(train_S)[colSums(is.na(train_S)) > 0] # find all columns with NA's (note they were originally 0 anyways)\n",
    "train_S[,with_NA] <- NULL # delete them"
   ]
  },
  {
   "cell_type": "code",
   "execution_count": 5,
   "metadata": {},
   "outputs": [
    {
     "data": {
      "text/html": [
       "<table>\n",
       "<thead><tr><th scope=col>term</th><th scope=col>estimate</th><th scope=col>std.error</th><th scope=col>statistic</th><th scope=col>p.value</th></tr></thead>\n",
       "<tbody>\n",
       "\t<tr><td>(Intercept)   </td><td> 7.021283e-15 </td><td>0.005472219   </td><td> 1.283078e-12 </td><td>1.0000000     </td></tr>\n",
       "\t<tr><td>MS.SubClass.20</td><td>-5.066681e-02 </td><td>0.102820298   </td><td>-4.927705e-01 </td><td>0.6222601     </td></tr>\n",
       "\t<tr><td>MS.SubClass.30</td><td>-2.044754e-02 </td><td>0.049363703   </td><td>-4.142222e-01 </td><td>0.6787815     </td></tr>\n",
       "\t<tr><td>MS.SubClass.40</td><td>-8.863433e-03 </td><td>0.012623602   </td><td>-7.021319e-01 </td><td>0.4827259     </td></tr>\n",
       "\t<tr><td>MS.SubClass.45</td><td> 4.142154e-03 </td><td>0.029193386   </td><td> 1.418867e-01 </td><td>0.8871920     </td></tr>\n",
       "\t<tr><td>MS.SubClass.50</td><td> 1.957658e-02 </td><td>0.065460561   </td><td> 2.990591e-01 </td><td>0.7649440     </td></tr>\n",
       "</tbody>\n",
       "</table>\n"
      ],
      "text/latex": [
       "\\begin{tabular}{r|lllll}\n",
       " term & estimate & std.error & statistic & p.value\\\\\n",
       "\\hline\n",
       "\t (Intercept)    &  7.021283e-15  & 0.005472219    &  1.283078e-12  & 1.0000000     \\\\\n",
       "\t MS.SubClass.20 & -5.066681e-02  & 0.102820298    & -4.927705e-01  & 0.6222601     \\\\\n",
       "\t MS.SubClass.30 & -2.044754e-02  & 0.049363703    & -4.142222e-01  & 0.6787815     \\\\\n",
       "\t MS.SubClass.40 & -8.863433e-03  & 0.012623602    & -7.021319e-01  & 0.4827259     \\\\\n",
       "\t MS.SubClass.45 &  4.142154e-03  & 0.029193386    &  1.418867e-01  & 0.8871920     \\\\\n",
       "\t MS.SubClass.50 &  1.957658e-02  & 0.065460561    &  2.990591e-01  & 0.7649440     \\\\\n",
       "\\end{tabular}\n"
      ],
      "text/markdown": [
       "\n",
       "term | estimate | std.error | statistic | p.value | \n",
       "|---|---|---|---|---|---|\n",
       "| (Intercept)    |  7.021283e-15  | 0.005472219    |  1.283078e-12  | 1.0000000      | \n",
       "| MS.SubClass.20 | -5.066681e-02  | 0.102820298    | -4.927705e-01  | 0.6222601      | \n",
       "| MS.SubClass.30 | -2.044754e-02  | 0.049363703    | -4.142222e-01  | 0.6787815      | \n",
       "| MS.SubClass.40 | -8.863433e-03  | 0.012623602    | -7.021319e-01  | 0.4827259      | \n",
       "| MS.SubClass.45 |  4.142154e-03  | 0.029193386    |  1.418867e-01  | 0.8871920      | \n",
       "| MS.SubClass.50 |  1.957658e-02  | 0.065460561    |  2.990591e-01  | 0.7649440      | \n",
       "\n",
       "\n"
      ],
      "text/plain": [
       "  term           estimate      std.error   statistic     p.value  \n",
       "1 (Intercept)     7.021283e-15 0.005472219  1.283078e-12 1.0000000\n",
       "2 MS.SubClass.20 -5.066681e-02 0.102820298 -4.927705e-01 0.6222601\n",
       "3 MS.SubClass.30 -2.044754e-02 0.049363703 -4.142222e-01 0.6787815\n",
       "4 MS.SubClass.40 -8.863433e-03 0.012623602 -7.021319e-01 0.4827259\n",
       "5 MS.SubClass.45  4.142154e-03 0.029193386  1.418867e-01 0.8871920\n",
       "6 MS.SubClass.50  1.957658e-02 0.065460561  2.990591e-01 0.7649440"
      ]
     },
     "metadata": {},
     "output_type": "display_data"
    }
   ],
   "source": [
    "fit <- lm(train_S$SalePrice ~ ., data = train_S) # Linear Regression\n",
    "lm_coefs <- tidy(fit)\n",
    "head(lm_coefs)"
   ]
  },
  {
   "cell_type": "code",
   "execution_count": 9,
   "metadata": {
    "scrolled": true
   },
   "outputs": [
    {
     "data": {
      "text/html": [
       "<table>\n",
       "<thead><tr><th></th><th scope=col>term</th><th scope=col>estimate</th><th scope=col>std.error</th><th scope=col>statistic</th><th scope=col>p.value</th><th scope=col>estimate_absolute</th></tr></thead>\n",
       "<tbody>\n",
       "\t<tr><th scope=row>389</th><td>Bedroom.AbvGr.3</td><td>-4.085296      </td><td>0.3910080      </td><td>-10.44811      </td><td>1.440375e-24   </td><td>4.085296       </td></tr>\n",
       "\t<tr><th scope=row>388</th><td>Bedroom.AbvGr.2</td><td>-3.583326      </td><td>0.3443377      </td><td>-10.40643      </td><td>2.157223e-24   </td><td>3.583326       </td></tr>\n",
       "\t<tr><th scope=row>404</th><td>TotRms.AbvGrd.6</td><td> 3.505965      </td><td>0.3109634      </td><td> 11.27453      </td><td>3.655961e-28   </td><td>3.505965       </td></tr>\n",
       "\t<tr><th scope=row>405</th><td>TotRms.AbvGrd.7</td><td> 3.261693      </td><td>0.2899471      </td><td> 11.24927      </td><td>4.744269e-28   </td><td>3.261693       </td></tr>\n",
       "\t<tr><th scope=row>403</th><td>TotRms.AbvGrd.5</td><td> 3.131193      </td><td>0.2767705      </td><td> 11.31332      </td><td>2.447864e-28   </td><td>3.131193       </td></tr>\n",
       "\t<tr><th scope=row>390</th><td>Bedroom.AbvGr.4</td><td>-2.751958      </td><td>0.2619983      </td><td>-10.50373      </td><td>8.385981e-25   </td><td>2.751958       </td></tr>\n",
       "\t<tr><th scope=row>406</th><td>TotRms.AbvGrd.8</td><td> 2.448115      </td><td>0.2172640      </td><td> 11.26792      </td><td>3.913833e-28   </td><td>2.448115       </td></tr>\n",
       "\t<tr><th scope=row>402</th><td>TotRms.AbvGrd.4</td><td> 2.058674      </td><td>0.1805230      </td><td> 11.40394      </td><td>9.549338e-29   </td><td>2.058674       </td></tr>\n",
       "\t<tr><th scope=row>387</th><td>Bedroom.AbvGr.1</td><td>-1.637976      </td><td>0.1579914      </td><td>-10.36750      </td><td>3.141888e-24   </td><td>1.637976       </td></tr>\n",
       "\t<tr><th scope=row>407</th><td>TotRms.AbvGrd.9</td><td> 1.578240      </td><td>0.1404297      </td><td> 11.23865      </td><td>5.292522e-28   </td><td>1.578240       </td></tr>\n",
       "</tbody>\n",
       "</table>\n"
      ],
      "text/latex": [
       "\\begin{tabular}{r|llllll}\n",
       "  & term & estimate & std.error & statistic & p.value & estimate\\_absolute\\\\\n",
       "\\hline\n",
       "\t389 & Bedroom.AbvGr.3 & -4.085296       & 0.3910080       & -10.44811       & 1.440375e-24    & 4.085296       \\\\\n",
       "\t388 & Bedroom.AbvGr.2 & -3.583326       & 0.3443377       & -10.40643       & 2.157223e-24    & 3.583326       \\\\\n",
       "\t404 & TotRms.AbvGrd.6 &  3.505965       & 0.3109634       &  11.27453       & 3.655961e-28    & 3.505965       \\\\\n",
       "\t405 & TotRms.AbvGrd.7 &  3.261693       & 0.2899471       &  11.24927       & 4.744269e-28    & 3.261693       \\\\\n",
       "\t403 & TotRms.AbvGrd.5 &  3.131193       & 0.2767705       &  11.31332       & 2.447864e-28    & 3.131193       \\\\\n",
       "\t390 & Bedroom.AbvGr.4 & -2.751958       & 0.2619983       & -10.50373       & 8.385981e-25    & 2.751958       \\\\\n",
       "\t406 & TotRms.AbvGrd.8 &  2.448115       & 0.2172640       &  11.26792       & 3.913833e-28    & 2.448115       \\\\\n",
       "\t402 & TotRms.AbvGrd.4 &  2.058674       & 0.1805230       &  11.40394       & 9.549338e-29    & 2.058674       \\\\\n",
       "\t387 & Bedroom.AbvGr.1 & -1.637976       & 0.1579914       & -10.36750       & 3.141888e-24    & 1.637976       \\\\\n",
       "\t407 & TotRms.AbvGrd.9 &  1.578240       & 0.1404297       &  11.23865       & 5.292522e-28    & 1.578240       \\\\\n",
       "\\end{tabular}\n"
      ],
      "text/markdown": [
       "\n",
       "| <!--/--> | term | estimate | std.error | statistic | p.value | estimate_absolute | \n",
       "|---|---|---|---|---|---|---|---|---|---|\n",
       "| 389 | Bedroom.AbvGr.3 | -4.085296       | 0.3910080       | -10.44811       | 1.440375e-24    | 4.085296        | \n",
       "| 388 | Bedroom.AbvGr.2 | -3.583326       | 0.3443377       | -10.40643       | 2.157223e-24    | 3.583326        | \n",
       "| 404 | TotRms.AbvGrd.6 |  3.505965       | 0.3109634       |  11.27453       | 3.655961e-28    | 3.505965        | \n",
       "| 405 | TotRms.AbvGrd.7 |  3.261693       | 0.2899471       |  11.24927       | 4.744269e-28    | 3.261693        | \n",
       "| 403 | TotRms.AbvGrd.5 |  3.131193       | 0.2767705       |  11.31332       | 2.447864e-28    | 3.131193        | \n",
       "| 390 | Bedroom.AbvGr.4 | -2.751958       | 0.2619983       | -10.50373       | 8.385981e-25    | 2.751958        | \n",
       "| 406 | TotRms.AbvGrd.8 |  2.448115       | 0.2172640       |  11.26792       | 3.913833e-28    | 2.448115        | \n",
       "| 402 | TotRms.AbvGrd.4 |  2.058674       | 0.1805230       |  11.40394       | 9.549338e-29    | 2.058674        | \n",
       "| 387 | Bedroom.AbvGr.1 | -1.637976       | 0.1579914       | -10.36750       | 3.141888e-24    | 1.637976        | \n",
       "| 407 | TotRms.AbvGrd.9 |  1.578240       | 0.1404297       |  11.23865       | 5.292522e-28    | 1.578240        | \n",
       "\n",
       "\n"
      ],
      "text/plain": [
       "    term            estimate  std.error statistic p.value     \n",
       "389 Bedroom.AbvGr.3 -4.085296 0.3910080 -10.44811 1.440375e-24\n",
       "388 Bedroom.AbvGr.2 -3.583326 0.3443377 -10.40643 2.157223e-24\n",
       "404 TotRms.AbvGrd.6  3.505965 0.3109634  11.27453 3.655961e-28\n",
       "405 TotRms.AbvGrd.7  3.261693 0.2899471  11.24927 4.744269e-28\n",
       "403 TotRms.AbvGrd.5  3.131193 0.2767705  11.31332 2.447864e-28\n",
       "390 Bedroom.AbvGr.4 -2.751958 0.2619983 -10.50373 8.385981e-25\n",
       "406 TotRms.AbvGrd.8  2.448115 0.2172640  11.26792 3.913833e-28\n",
       "402 TotRms.AbvGrd.4  2.058674 0.1805230  11.40394 9.549338e-29\n",
       "387 Bedroom.AbvGr.1 -1.637976 0.1579914 -10.36750 3.141888e-24\n",
       "407 TotRms.AbvGrd.9  1.578240 0.1404297  11.23865 5.292522e-28\n",
       "    estimate_absolute\n",
       "389 4.085296         \n",
       "388 3.583326         \n",
       "404 3.505965         \n",
       "405 3.261693         \n",
       "403 3.131193         \n",
       "390 2.751958         \n",
       "406 2.448115         \n",
       "402 2.058674         \n",
       "387 1.637976         \n",
       "407 1.578240         "
      ]
     },
     "metadata": {},
     "output_type": "display_data"
    }
   ],
   "source": [
    "lm_coefs$estimate_absolute <- abs(lm_coefs$estimate) # take the absolute value\n",
    "head(lm_coefs[order(-lm_coefs$estimate_absolute),],10)"
   ]
  },
  {
   "cell_type": "markdown",
   "metadata": {},
   "source": [
    "The following shows the top ten features that determine Sale Price based on a linear regression. The top features tend to be the number of bedrooms and the total number of rooms in general. The number following it indicates how many bedroom/ rooms there are. If you are interested in just looking at the variables itself (without each individual category), the top ten features are as follows:\n",
    "\n",
    "1. Bedroom.AbvGrd - Number of bedrooms above grade\n",
    "2. TotRms.AbvGrd - Total rooms above grade \n",
    "3. Overall.Qual - Overall quality of material and finish of house\n",
    "4. X2nd.Flr.SF - Second floor square feet\n",
    "5. Bsmt.Full.Bath - Number of full bathrooms in basement \n",
    "6. Roof.Style - Type of roof\n",
    "7. X1st.Flr.SF - First floor square feet\n",
    "8. BsmtFin.SF - Basement square feet (type 1)\n",
    "9. Full.Bath -  Full bath above grade\n",
    "10. Overall.Cond - Ovearll condition of the house"
   ]
  }
 ],
 "metadata": {
  "kernelspec": {
   "display_name": "R",
   "language": "R",
   "name": "ir"
  },
  "language_info": {
   "codemirror_mode": "r",
   "file_extension": ".r",
   "mimetype": "text/x-r-source",
   "name": "R",
   "pygments_lexer": "r",
   "version": "3.4.1"
  }
 },
 "nbformat": 4,
 "nbformat_minor": 2
}
